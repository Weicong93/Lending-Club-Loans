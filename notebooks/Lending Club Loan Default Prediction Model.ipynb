{
 "cells": [
  {
   "cell_type": "markdown",
   "id": "28716ac5",
   "metadata": {},
   "source": [
    "***\n",
    "# Lending Club Loan Default Prediction\n",
    "\n",
    "<b>Dataset Used:</b>\n",
    "\n",
    "- LendingClub Loan Default Dataset from Kaggle\n",
    "\n",
    "\n",
    "<b>Notes:</b>\n",
    "\n",
    "- ...."
   ]
  },
  {
   "cell_type": "markdown",
   "id": "6d0df29f",
   "metadata": {},
   "source": [
    "# 📑 Introduction\n",
    "\n",
    "> `LendingClub` is a US peer-to-peer lending company, headquartered in San Francisco, California. It was the first peer-to-peer lender to register its offerings as securities with the Securities and Exchange Commission (SEC), and to offer loan trading on a secondary market. `LendingClub` is the world's largest peer-to-peer lending platform.\n",
    "\n",
    "# 📝 Business Understanding\n",
    "\n",
    "> `LendingClub` company specialises in lending various types of loans to urban customers. When the company receives a loan application, the company has to make a decision for loan approval based on the applicant’s profile. Two types of risks are associated with the bank’s decision:\n",
    "\n",
    "> - If the applicant is likely to repay the loan, then not approving the loan results in a loss of business to the company\n",
    "> - If the applicant is not likely to repay the loan, i.e. he/she is likely to default, then approving the loan may lead to a financial loss for the company\n",
    "\n",
    "> The data given contains the information about past loan applicants and whether they ‘defaulted’ or not. The aim is to identify patterns which indicate if a person is likely to default, which may be used for takin actions such as denying the loan, reducing the amount of loan, lending (to risky applicants) at a higher interest rate, etc.\n",
    "\n",
    "> When a person applies for a loan, there are two types of decisions that could be taken by the company:\n",
    "> 1. `Loan accepted`: If the company approves the loan, there are 3 possible scenarios described below:\n",
    "    - `Fully paid`: Applicant has fully paid the loan (the principal and the interest rate)\n",
    "    - `Current`: Applicant is in the process of paying the instalments, i.e. the tenure of the loan is not yet completed. These candidates are not labelled as 'defaulted'.\n",
    "    - `Charged-off`: Applicant has not paid the instalments in due time for a long period of time, i.e. he/she has defaulted on the loan\n",
    "> 2. `Loan rejected`: The company had rejected the loan (because the candidate does not meet their requirements etc.). Since the loan was rejected, there is no transactional history of those applicants with the company and so this data is not available with the company (and thus in this dataset)\n",
    "\n",
    "# 🎯 Business Objectives\n",
    "> - `LendingClub` is the largest online loan marketplace, facilitating personal loans, business loans, and financing of medical procedures. Borrowers can easily access lower interest rate loans through a fast online interface. \n",
    "> - Like most other lending companies, lending loans to ‘`risky`’ applicants is the largest source of financial loss (called `credit loss`). The credit loss is the amount of money lost by the lender when the borrower refuses to pay or runs away with the money owed. In other words, borrowers who defaultcause the largest amount of loss to the lenders. In this case, the customers labelled as '`charged-off`' are the '`defaulters`'. \n",
    "> - If one is able to identify these risky loan applicants, then such loans can be reduced thereby cutting down the amount of credit loss. Identification of such applicants using EDA and machine learning is the aim of this case study. \n",
    "> - In other words, the company wants to understand the driving factors (or driver variables) behind loan default, i.e. the variables which are strong indicators of default. The company can utilise this knowledge for its portfolio and risk assessment. \n",
    "> - To develop your understanding of the domain, you are advised to independently research a little about risk analytics (understanding the types of variables and their significance should be enough).\n",
    "\n",
    "# 💾 Data Description\n",
    "\n",
    "----\n",
    "Here is the available information we have on this dataset:\n",
    "\n",
    "<table border=\"1\" class=\"dataframe\">\n",
    "  <thead>\n",
    "    <tr style=\"text-align: right;\">\n",
    "      <th></th>\n",
    "      <th>Column Name</th>\n",
    "      <th>Column Description</th>\n",
    "    </tr>\n",
    "  </thead>\n",
    "  <tbody>\n",
    "    <tr>\n",
    "      <th>1</th>\n",
    "      <td>loan_amnt</td>\n",
    "      <td>The listed amount of the loan applied for by the borrower. If at some point in time, the credit department reduces the loan amount, then it will be reflected in this value.</td>\n",
    "    </tr>\n",
    "    <tr>\n",
    "      <th>2</th>\n",
    "      <td>term</td>\n",
    "      <td>The number of payments on the loan. Values are in months and can be either 36 or 60</td>\n",
    "    </tr>\n",
    "    <tr>\n",
    "      <th>3</th>\n",
    "      <td>int_rate</td>\n",
    "      <td>Interest Rate on the loan</td>\n",
    "    </tr>\n",
    "    <tr>\n",
    "      <th>4</th>\n",
    "      <td>installment</td>\n",
    "      <td>The monthly payment owed by the borrower if the loan originates</td>\n",
    "    </tr>\n",
    "    <tr>\n",
    "      <th>5</th>\n",
    "      <td>grade</td>\n",
    "      <td>LC assigned loan grade</td>\n",
    "    </tr>\n",
    "    <tr>\n",
    "      <th>6</th>\n",
    "      <td>sub_grade</td>\n",
    "      <td>LC assigned loan subgrade</td>\n",
    "    </tr>\n",
    "    <tr>\n",
    "      <th>7</th>\n",
    "      <td>emp_title</td>\n",
    "      <td>The job title supplied by the Borrower when applying for the loan</td>\n",
    "    </tr>\n",
    "    <tr>\n",
    "      <th>8</th>\n",
    "      <td>emp_length</td>\n",
    "      <td>Employment length in years. Possible values are between 0 and 10 where 0 means less than one year and 10 means ten or more years.</td>\n",
    "    </tr>\n",
    "    <tr>\n",
    "      <th>9</th>\n",
    "      <td>home_ownership</td>\n",
    "      <td>The home ownership status provided by the borrower during registration or obtained from the credit report. Our values are: RENT, OWN, MORTGAGE, OTHER</td>\n",
    "    </tr>\n",
    "    <tr>\n",
    "      <th>10</th>\n",
    "      <td>annual_inc</td>\n",
    "      <td>The self-reported annual income provided by the borrower during registration</td>\n",
    "    </tr>\n",
    "    <tr>\n",
    "      <th>11</th>\n",
    "      <td>verification_status</td>\n",
    "      <td>Indicates if income was verified by LC, not verified, or if the income source was verified</td>\n",
    "    </tr>\n",
    "    <tr>\n",
    "      <th>12</th>\n",
    "      <td>issue_d</td>\n",
    "      <td>The month which the loan was funded</td>\n",
    "    </tr>\n",
    "    <tr>\n",
    "      <th>13</th>\n",
    "      <td>purpose</td>\n",
    "      <td>A category provided by the borrower for the loan request</td>\n",
    "    </tr>\n",
    "    <tr>\n",
    "      <th>14</th>\n",
    "      <td>title</td>\n",
    "      <td>The loan title provided by the borrower</td>\n",
    "    </tr>\n",
    "    <tr>\n",
    "      <th>15</th>\n",
    "      <td>dti</td>\n",
    "      <td>A ratio calculated using the borrower’s total monthly debt payments on the total debt obligations, excluding mortgage and the requested LC loan, divided by the borrower’s self-reported monthly income</td>\n",
    "    </tr>\n",
    "    <tr>\n",
    "      <th>16</th>\n",
    "      <td>earliest_cr_line</td>\n",
    "      <td>The month the borrower's earliest reported credit line was opened</td>\n",
    "    </tr>\n",
    "    <tr>\n",
    "      <th>17</th>\n",
    "      <td>open_acc</td>\n",
    "      <td>The number of open credit lines in the borrower's credit file</td>\n",
    "    </tr>\n",
    "    <tr>\n",
    "      <th>18</th>\n",
    "      <td>pub_rec</td>\n",
    "      <td>Number of derogatory public records</td>\n",
    "    </tr>\n",
    "    <tr>\n",
    "      <th>19</th>\n",
    "      <td>revol_bal</td>\n",
    "      <td>Total credit revolving balance</td>\n",
    "    </tr>\n",
    "    <tr>\n",
    "      <th>20</th>\n",
    "      <td>revol_util</td>\n",
    "      <td>Revolving line utilization rate, or the amount of credit the borrower is using relative to all available revolving credit.</td>\n",
    "    </tr>\n",
    "    <tr>\n",
    "      <th>21</th>\n",
    "      <td>total_acc</td>\n",
    "      <td>The total number of credit lines currently in the borrower's credit file</td>\n",
    "    </tr>\n",
    "    <tr>\n",
    "      <th>22</th>\n",
    "      <td>initial_list_status</td>\n",
    "      <td>The initial listing status of the loan. Possible values are – W, F</td>\n",
    "    </tr>\n",
    "    <tr>\n",
    "      <th>23</th>\n",
    "      <td>application_type</td>\n",
    "      <td>Indicates whether the loan is an individual application or a joint application with two co-borrowers</td>\n",
    "    </tr>\n",
    "    <tr>\n",
    "      <th>24</th>\n",
    "      <td>mort_acc</td>\n",
    "      <td>Number of mortgage accounts</td>\n",
    "    </tr>\n",
    "    <tr>\n",
    "      <th>25</th>\n",
    "      <td>pub_rec_bankruptcies</td>\n",
    "      <td>Number of public record bankruptcies</td>\n",
    "    </tr>\n",
    "    <tr>\n",
    "      <th>26</th>\n",
    "      <td>address</td>\n",
    "      <td>Residential address of the loan applicant</td>\n",
    "    </tr>\n",
    "    <tr>\n",
    "      <th>27</th>\n",
    "      <td>loan_status</td>\n",
    "      <td>Current status of the loan (Outcome/Label)</td>\n",
    "    </tr>\n",
    "  </tbody>\n",
    "</table>\n"
   ]
  },
  {
   "cell_type": "code",
   "execution_count": 1,
   "id": "a8d753d2",
   "metadata": {},
   "outputs": [],
   "source": [
    "import pandas as pd\n",
    "import numpy as np\n",
    "from sklearn.linear_model import LogisticRegression\n",
    "from sklearn.model_selection import train_test_split, KFold, GridSearchCV\n",
    "from sklearn import metrics, svm\n",
    "from sklearn.preprocessing import LabelEncoder, StandardScaler\n",
    "from sklearn.tree import DecisionTreeRegressor, DecisionTreeClassifier\n",
    "from sklearn.metrics import roc_auc_score\n",
    "from sklearn.ensemble import RandomForestClassifier, BaggingClassifier, AdaBoostClassifier\n",
    "import seaborn as sns\n",
    "import matplotlib.pyplot as plt\n",
    "from datetime import date, datetime\n",
    "import statistics\n",
    "import warnings\n",
    "import plotly.express as px\n",
    "from sklearn.neighbors import KNeighborsClassifier\n",
    "from xgboost import XGBClassifier\n",
    "import xgboost as xgb\n",
    "import joblib\n",
    "\n",
    "warnings.filterwarnings(\"ignore\")\n"
   ]
  },
  {
   "cell_type": "markdown",
   "id": "f6841855",
   "metadata": {},
   "source": [
    "Upload Dataset into Dataframe"
   ]
  },
  {
   "cell_type": "code",
   "execution_count": 3,
   "id": "1e86c101",
   "metadata": {},
   "outputs": [
    {
     "data": {
      "text/html": [
       "<div>\n",
       "<style scoped>\n",
       "    .dataframe tbody tr th:only-of-type {\n",
       "        vertical-align: middle;\n",
       "    }\n",
       "\n",
       "    .dataframe tbody tr th {\n",
       "        vertical-align: top;\n",
       "    }\n",
       "\n",
       "    .dataframe thead th {\n",
       "        text-align: right;\n",
       "    }\n",
       "</style>\n",
       "<table border=\"1\" class=\"dataframe\">\n",
       "  <thead>\n",
       "    <tr style=\"text-align: right;\">\n",
       "      <th></th>\n",
       "      <th>id</th>\n",
       "      <th>loan_amnt</th>\n",
       "      <th>term</th>\n",
       "      <th>int_rate</th>\n",
       "      <th>installment</th>\n",
       "      <th>grade</th>\n",
       "      <th>sub_grade</th>\n",
       "      <th>emp_title</th>\n",
       "      <th>emp_length</th>\n",
       "      <th>home_ownership</th>\n",
       "      <th>...</th>\n",
       "      <th>pub_rec</th>\n",
       "      <th>revol_bal</th>\n",
       "      <th>revol_util</th>\n",
       "      <th>total_acc</th>\n",
       "      <th>initial_list_status</th>\n",
       "      <th>application_type</th>\n",
       "      <th>mort_acc</th>\n",
       "      <th>pub_rec_bankruptcies</th>\n",
       "      <th>address</th>\n",
       "      <th>loan_status</th>\n",
       "    </tr>\n",
       "  </thead>\n",
       "  <tbody>\n",
       "    <tr>\n",
       "      <th>0</th>\n",
       "      <td>T0</td>\n",
       "      <td>25000.0</td>\n",
       "      <td>60 months</td>\n",
       "      <td>14.83</td>\n",
       "      <td>592.52</td>\n",
       "      <td>D</td>\n",
       "      <td>D3</td>\n",
       "      <td>NaN</td>\n",
       "      <td>10+ years</td>\n",
       "      <td>RENT</td>\n",
       "      <td>...</td>\n",
       "      <td>0.0</td>\n",
       "      <td>6390.0</td>\n",
       "      <td>41.5</td>\n",
       "      <td>39.0</td>\n",
       "      <td>f</td>\n",
       "      <td>INDIVIDUAL</td>\n",
       "      <td>NaN</td>\n",
       "      <td>0.0</td>\n",
       "      <td>Unit 8329 Box 0376\\nDPO AA 93700</td>\n",
       "      <td>Charged Off</td>\n",
       "    </tr>\n",
       "    <tr>\n",
       "      <th>1</th>\n",
       "      <td>T1</td>\n",
       "      <td>9500.0</td>\n",
       "      <td>36 months</td>\n",
       "      <td>12.99</td>\n",
       "      <td>320.05</td>\n",
       "      <td>C</td>\n",
       "      <td>C2</td>\n",
       "      <td>NaN</td>\n",
       "      <td>NaN</td>\n",
       "      <td>MORTGAGE</td>\n",
       "      <td>...</td>\n",
       "      <td>1.0</td>\n",
       "      <td>62512.0</td>\n",
       "      <td>82.6</td>\n",
       "      <td>20.0</td>\n",
       "      <td>f</td>\n",
       "      <td>INDIVIDUAL</td>\n",
       "      <td>2.0</td>\n",
       "      <td>1.0</td>\n",
       "      <td>3275 West Club Suite 454\\nWest Kyle, SC 48052</td>\n",
       "      <td>Charged Off</td>\n",
       "    </tr>\n",
       "    <tr>\n",
       "      <th>2</th>\n",
       "      <td>T2</td>\n",
       "      <td>9000.0</td>\n",
       "      <td>36 months</td>\n",
       "      <td>8.39</td>\n",
       "      <td>283.65</td>\n",
       "      <td>B</td>\n",
       "      <td>B1</td>\n",
       "      <td>Bus Operator</td>\n",
       "      <td>10+ years</td>\n",
       "      <td>MORTGAGE</td>\n",
       "      <td>...</td>\n",
       "      <td>0.0</td>\n",
       "      <td>8835.0</td>\n",
       "      <td>23.2</td>\n",
       "      <td>20.0</td>\n",
       "      <td>w</td>\n",
       "      <td>INDIVIDUAL</td>\n",
       "      <td>2.0</td>\n",
       "      <td>0.0</td>\n",
       "      <td>16698 Kline Unions\\nNorth Patrickfurt, VA 05113</td>\n",
       "      <td>Fully Paid</td>\n",
       "    </tr>\n",
       "    <tr>\n",
       "      <th>3</th>\n",
       "      <td>T3</td>\n",
       "      <td>16700.0</td>\n",
       "      <td>60 months</td>\n",
       "      <td>22.99</td>\n",
       "      <td>470.69</td>\n",
       "      <td>F</td>\n",
       "      <td>F1</td>\n",
       "      <td>Business Analyst</td>\n",
       "      <td>7 years</td>\n",
       "      <td>MORTGAGE</td>\n",
       "      <td>...</td>\n",
       "      <td>0.0</td>\n",
       "      <td>23489.0</td>\n",
       "      <td>55.3</td>\n",
       "      <td>26.0</td>\n",
       "      <td>f</td>\n",
       "      <td>INDIVIDUAL</td>\n",
       "      <td>2.0</td>\n",
       "      <td>0.0</td>\n",
       "      <td>931 Kimberly Passage Suite 749\\nDuncanfurt, NM...</td>\n",
       "      <td>Fully Paid</td>\n",
       "    </tr>\n",
       "    <tr>\n",
       "      <th>4</th>\n",
       "      <td>T4</td>\n",
       "      <td>2800.0</td>\n",
       "      <td>36 months</td>\n",
       "      <td>15.80</td>\n",
       "      <td>98.17</td>\n",
       "      <td>C</td>\n",
       "      <td>C3</td>\n",
       "      <td>BUDCO</td>\n",
       "      <td>9 years</td>\n",
       "      <td>MORTGAGE</td>\n",
       "      <td>...</td>\n",
       "      <td>0.0</td>\n",
       "      <td>33014.0</td>\n",
       "      <td>90.7</td>\n",
       "      <td>44.0</td>\n",
       "      <td>w</td>\n",
       "      <td>INDIVIDUAL</td>\n",
       "      <td>7.0</td>\n",
       "      <td>0.0</td>\n",
       "      <td>657 Monroe Row Suite 128\\nPort Courtney, ND 00813</td>\n",
       "      <td>Fully Paid</td>\n",
       "    </tr>\n",
       "    <tr>\n",
       "      <th>...</th>\n",
       "      <td>...</td>\n",
       "      <td>...</td>\n",
       "      <td>...</td>\n",
       "      <td>...</td>\n",
       "      <td>...</td>\n",
       "      <td>...</td>\n",
       "      <td>...</td>\n",
       "      <td>...</td>\n",
       "      <td>...</td>\n",
       "      <td>...</td>\n",
       "      <td>...</td>\n",
       "      <td>...</td>\n",
       "      <td>...</td>\n",
       "      <td>...</td>\n",
       "      <td>...</td>\n",
       "      <td>...</td>\n",
       "      <td>...</td>\n",
       "      <td>...</td>\n",
       "      <td>...</td>\n",
       "      <td>...</td>\n",
       "      <td>...</td>\n",
       "    </tr>\n",
       "    <tr>\n",
       "      <th>316819</th>\n",
       "      <td>T316819</td>\n",
       "      <td>20000.0</td>\n",
       "      <td>36 months</td>\n",
       "      <td>7.89</td>\n",
       "      <td>625.72</td>\n",
       "      <td>A</td>\n",
       "      <td>A5</td>\n",
       "      <td>General Manager</td>\n",
       "      <td>1 year</td>\n",
       "      <td>MORTGAGE</td>\n",
       "      <td>...</td>\n",
       "      <td>1.0</td>\n",
       "      <td>7888.0</td>\n",
       "      <td>21.2</td>\n",
       "      <td>26.0</td>\n",
       "      <td>f</td>\n",
       "      <td>INDIVIDUAL</td>\n",
       "      <td>2.0</td>\n",
       "      <td>1.0</td>\n",
       "      <td>5496 Elijah Locks Suite 248\\nJasonville, SD 70466</td>\n",
       "      <td>Fully Paid</td>\n",
       "    </tr>\n",
       "    <tr>\n",
       "      <th>316820</th>\n",
       "      <td>T316820</td>\n",
       "      <td>12400.0</td>\n",
       "      <td>36 months</td>\n",
       "      <td>13.67</td>\n",
       "      <td>421.82</td>\n",
       "      <td>B</td>\n",
       "      <td>B5</td>\n",
       "      <td>Sales Manager</td>\n",
       "      <td>10+ years</td>\n",
       "      <td>MORTGAGE</td>\n",
       "      <td>...</td>\n",
       "      <td>1.0</td>\n",
       "      <td>16229.0</td>\n",
       "      <td>58.2</td>\n",
       "      <td>13.0</td>\n",
       "      <td>w</td>\n",
       "      <td>INDIVIDUAL</td>\n",
       "      <td>0.0</td>\n",
       "      <td>1.0</td>\n",
       "      <td>39275 Lara Ports Suite 055\\nSouth Terrichester...</td>\n",
       "      <td>Fully Paid</td>\n",
       "    </tr>\n",
       "    <tr>\n",
       "      <th>316821</th>\n",
       "      <td>T316821</td>\n",
       "      <td>30000.0</td>\n",
       "      <td>36 months</td>\n",
       "      <td>12.69</td>\n",
       "      <td>1006.35</td>\n",
       "      <td>C</td>\n",
       "      <td>C2</td>\n",
       "      <td>senior system Engineer</td>\n",
       "      <td>1 year</td>\n",
       "      <td>MORTGAGE</td>\n",
       "      <td>...</td>\n",
       "      <td>1.0</td>\n",
       "      <td>14300.0</td>\n",
       "      <td>66.2</td>\n",
       "      <td>28.0</td>\n",
       "      <td>w</td>\n",
       "      <td>INDIVIDUAL</td>\n",
       "      <td>3.0</td>\n",
       "      <td>0.0</td>\n",
       "      <td>8911 Miller Village Apt. 743\\nLake Amanda, FL ...</td>\n",
       "      <td>Charged Off</td>\n",
       "    </tr>\n",
       "    <tr>\n",
       "      <th>316822</th>\n",
       "      <td>T316822</td>\n",
       "      <td>14000.0</td>\n",
       "      <td>36 months</td>\n",
       "      <td>14.31</td>\n",
       "      <td>480.60</td>\n",
       "      <td>C</td>\n",
       "      <td>C4</td>\n",
       "      <td>NaN</td>\n",
       "      <td>NaN</td>\n",
       "      <td>RENT</td>\n",
       "      <td>...</td>\n",
       "      <td>0.0</td>\n",
       "      <td>6444.0</td>\n",
       "      <td>51.1</td>\n",
       "      <td>10.0</td>\n",
       "      <td>w</td>\n",
       "      <td>INDIVIDUAL</td>\n",
       "      <td>0.0</td>\n",
       "      <td>0.0</td>\n",
       "      <td>00038 James Square\\nPort Patrickside, RI 30723</td>\n",
       "      <td>Fully Paid</td>\n",
       "    </tr>\n",
       "    <tr>\n",
       "      <th>316823</th>\n",
       "      <td>T316823</td>\n",
       "      <td>12000.0</td>\n",
       "      <td>60 months</td>\n",
       "      <td>10.75</td>\n",
       "      <td>259.42</td>\n",
       "      <td>B</td>\n",
       "      <td>B4</td>\n",
       "      <td>Digital Marketing Manager</td>\n",
       "      <td>2 years</td>\n",
       "      <td>RENT</td>\n",
       "      <td>...</td>\n",
       "      <td>0.0</td>\n",
       "      <td>17573.0</td>\n",
       "      <td>43.7</td>\n",
       "      <td>17.0</td>\n",
       "      <td>w</td>\n",
       "      <td>INDIVIDUAL</td>\n",
       "      <td>1.0</td>\n",
       "      <td>0.0</td>\n",
       "      <td>39726 Ward Common\\nJameschester, AL 00813</td>\n",
       "      <td>Fully Paid</td>\n",
       "    </tr>\n",
       "  </tbody>\n",
       "</table>\n",
       "<p>316824 rows × 28 columns</p>\n",
       "</div>"
      ],
      "text/plain": [
       "             id  loan_amnt        term  int_rate  installment grade sub_grade  \\\n",
       "0            T0    25000.0   60 months     14.83       592.52     D        D3   \n",
       "1            T1     9500.0   36 months     12.99       320.05     C        C2   \n",
       "2            T2     9000.0   36 months      8.39       283.65     B        B1   \n",
       "3            T3    16700.0   60 months     22.99       470.69     F        F1   \n",
       "4            T4     2800.0   36 months     15.80        98.17     C        C3   \n",
       "...         ...        ...         ...       ...          ...   ...       ...   \n",
       "316819  T316819    20000.0   36 months      7.89       625.72     A        A5   \n",
       "316820  T316820    12400.0   36 months     13.67       421.82     B        B5   \n",
       "316821  T316821    30000.0   36 months     12.69      1006.35     C        C2   \n",
       "316822  T316822    14000.0   36 months     14.31       480.60     C        C4   \n",
       "316823  T316823    12000.0   60 months     10.75       259.42     B        B4   \n",
       "\n",
       "                        emp_title emp_length home_ownership  ...  pub_rec  \\\n",
       "0                             NaN  10+ years           RENT  ...      0.0   \n",
       "1                             NaN        NaN       MORTGAGE  ...      1.0   \n",
       "2                    Bus Operator  10+ years       MORTGAGE  ...      0.0   \n",
       "3                Business Analyst    7 years       MORTGAGE  ...      0.0   \n",
       "4                           BUDCO    9 years       MORTGAGE  ...      0.0   \n",
       "...                           ...        ...            ...  ...      ...   \n",
       "316819            General Manager     1 year       MORTGAGE  ...      1.0   \n",
       "316820              Sales Manager  10+ years       MORTGAGE  ...      1.0   \n",
       "316821     senior system Engineer     1 year       MORTGAGE  ...      1.0   \n",
       "316822                        NaN        NaN           RENT  ...      0.0   \n",
       "316823  Digital Marketing Manager    2 years           RENT  ...      0.0   \n",
       "\n",
       "       revol_bal revol_util total_acc initial_list_status  application_type  \\\n",
       "0         6390.0       41.5      39.0                   f        INDIVIDUAL   \n",
       "1        62512.0       82.6      20.0                   f        INDIVIDUAL   \n",
       "2         8835.0       23.2      20.0                   w        INDIVIDUAL   \n",
       "3        23489.0       55.3      26.0                   f        INDIVIDUAL   \n",
       "4        33014.0       90.7      44.0                   w        INDIVIDUAL   \n",
       "...          ...        ...       ...                 ...               ...   \n",
       "316819    7888.0       21.2      26.0                   f        INDIVIDUAL   \n",
       "316820   16229.0       58.2      13.0                   w        INDIVIDUAL   \n",
       "316821   14300.0       66.2      28.0                   w        INDIVIDUAL   \n",
       "316822    6444.0       51.1      10.0                   w        INDIVIDUAL   \n",
       "316823   17573.0       43.7      17.0                   w        INDIVIDUAL   \n",
       "\n",
       "       mort_acc  pub_rec_bankruptcies  \\\n",
       "0           NaN                   0.0   \n",
       "1           2.0                   1.0   \n",
       "2           2.0                   0.0   \n",
       "3           2.0                   0.0   \n",
       "4           7.0                   0.0   \n",
       "...         ...                   ...   \n",
       "316819      2.0                   1.0   \n",
       "316820      0.0                   1.0   \n",
       "316821      3.0                   0.0   \n",
       "316822      0.0                   0.0   \n",
       "316823      1.0                   0.0   \n",
       "\n",
       "                                                  address  loan_status  \n",
       "0                        Unit 8329 Box 0376\\nDPO AA 93700  Charged Off  \n",
       "1           3275 West Club Suite 454\\nWest Kyle, SC 48052  Charged Off  \n",
       "2         16698 Kline Unions\\nNorth Patrickfurt, VA 05113   Fully Paid  \n",
       "3       931 Kimberly Passage Suite 749\\nDuncanfurt, NM...   Fully Paid  \n",
       "4       657 Monroe Row Suite 128\\nPort Courtney, ND 00813   Fully Paid  \n",
       "...                                                   ...          ...  \n",
       "316819  5496 Elijah Locks Suite 248\\nJasonville, SD 70466   Fully Paid  \n",
       "316820  39275 Lara Ports Suite 055\\nSouth Terrichester...   Fully Paid  \n",
       "316821  8911 Miller Village Apt. 743\\nLake Amanda, FL ...  Charged Off  \n",
       "316822     00038 James Square\\nPort Patrickside, RI 30723   Fully Paid  \n",
       "316823          39726 Ward Common\\nJameschester, AL 00813   Fully Paid  \n",
       "\n",
       "[316824 rows x 28 columns]"
      ]
     },
     "execution_count": 3,
     "metadata": {},
     "output_type": "execute_result"
    }
   ],
   "source": [
    "train_df = pd.read_csv(\"../data/lc_trainingset.csv\")\n",
    "train_df"
   ]
  },
  {
   "cell_type": "markdown",
   "id": "ef6dc1e9",
   "metadata": {},
   "source": [
    "Dataset Analysis"
   ]
  },
  {
   "cell_type": "code",
   "execution_count": 4,
   "id": "a490be30",
   "metadata": {
    "scrolled": true
   },
   "outputs": [
    {
     "name": "stdout",
     "output_type": "stream",
     "text": [
      "<class 'pandas.core.frame.DataFrame'>\n",
      "RangeIndex: 316824 entries, 0 to 316823\n",
      "Data columns (total 28 columns):\n",
      " #   Column                Non-Null Count   Dtype  \n",
      "---  ------                --------------   -----  \n",
      " 0   id                    316824 non-null  object \n",
      " 1   loan_amnt             316824 non-null  float64\n",
      " 2   term                  316824 non-null  object \n",
      " 3   int_rate              316824 non-null  float64\n",
      " 4   installment           316824 non-null  float64\n",
      " 5   grade                 316824 non-null  object \n",
      " 6   sub_grade             316824 non-null  object \n",
      " 7   emp_title             298514 non-null  object \n",
      " 8   emp_length            302162 non-null  object \n",
      " 9   home_ownership        316824 non-null  object \n",
      " 10  annual_inc            316824 non-null  float64\n",
      " 11  verification_status   316824 non-null  object \n",
      " 12  issue_d               316824 non-null  object \n",
      " 13  purpose               316824 non-null  object \n",
      " 14  title                 315423 non-null  object \n",
      " 15  dti                   316824 non-null  float64\n",
      " 16  earliest_cr_line      316824 non-null  object \n",
      " 17  open_acc              316824 non-null  float64\n",
      " 18  pub_rec               316824 non-null  float64\n",
      " 19  revol_bal             316824 non-null  float64\n",
      " 20  revol_util            316598 non-null  float64\n",
      " 21  total_acc             316824 non-null  float64\n",
      " 22  initial_list_status   316824 non-null  object \n",
      " 23  application_type      316824 non-null  object \n",
      " 24  mort_acc              286611 non-null  float64\n",
      " 25  pub_rec_bankruptcies  316388 non-null  float64\n",
      " 26  address               316824 non-null  object \n",
      " 27  loan_status           316824 non-null  object \n",
      "dtypes: float64(12), object(16)\n",
      "memory usage: 67.7+ MB\n"
     ]
    }
   ],
   "source": [
    "train_df.info() #Overview of data columns and Dtype"
   ]
  },
  {
   "cell_type": "code",
   "execution_count": 5,
   "id": "5dc11762",
   "metadata": {},
   "outputs": [
    {
     "data": {
      "text/plain": [
       "id                          0\n",
       "loan_amnt                   0\n",
       "term                        0\n",
       "int_rate                    0\n",
       "installment                 0\n",
       "grade                       0\n",
       "sub_grade                   0\n",
       "emp_title               18310\n",
       "emp_length              14662\n",
       "home_ownership              0\n",
       "annual_inc                  0\n",
       "verification_status         0\n",
       "issue_d                     0\n",
       "purpose                     0\n",
       "title                    1401\n",
       "dti                         0\n",
       "earliest_cr_line            0\n",
       "open_acc                    0\n",
       "pub_rec                     0\n",
       "revol_bal                   0\n",
       "revol_util                226\n",
       "total_acc                   0\n",
       "initial_list_status         0\n",
       "application_type            0\n",
       "mort_acc                30213\n",
       "pub_rec_bankruptcies      436\n",
       "address                     0\n",
       "loan_status                 0\n",
       "dtype: int64"
      ]
     },
     "execution_count": 5,
     "metadata": {},
     "output_type": "execute_result"
    }
   ],
   "source": [
    "train_df.isnull().sum() #Identify columns with missing cells"
   ]
  },
  {
   "cell_type": "code",
   "execution_count": 6,
   "id": "a116ddd1",
   "metadata": {
    "scrolled": true
   },
   "outputs": [
    {
     "data": {
      "text/plain": [
       "id                      0.000000\n",
       "loan_amnt               0.000000\n",
       "term                    0.000000\n",
       "int_rate                0.000000\n",
       "installment             0.000000\n",
       "grade                   0.000000\n",
       "sub_grade               0.000000\n",
       "emp_title               0.057792\n",
       "emp_length              0.046278\n",
       "home_ownership          0.000000\n",
       "annual_inc              0.000000\n",
       "verification_status     0.000000\n",
       "issue_d                 0.000000\n",
       "purpose                 0.000000\n",
       "title                   0.004422\n",
       "dti                     0.000000\n",
       "earliest_cr_line        0.000000\n",
       "open_acc                0.000000\n",
       "pub_rec                 0.000000\n",
       "revol_bal               0.000000\n",
       "revol_util              0.000713\n",
       "total_acc               0.000000\n",
       "initial_list_status     0.000000\n",
       "application_type        0.000000\n",
       "mort_acc                0.095362\n",
       "pub_rec_bankruptcies    0.001376\n",
       "address                 0.000000\n",
       "loan_status             0.000000\n",
       "dtype: float64"
      ]
     },
     "execution_count": 6,
     "metadata": {},
     "output_type": "execute_result"
    }
   ],
   "source": [
    "#Determine columns to drop if no.missing cell >30%\n",
    "train_df.isnull().mean()"
   ]
  },
  {
   "cell_type": "markdown",
   "id": "3b191d2a",
   "metadata": {},
   "source": [
    "No column has missing cell >30%, hence keep all columns\n",
    "\n",
    "Before further analysis, we need to see the type of inputs and understand whether they are useful for model training. We will start by looking at the number of unique values of each variables that are Dtypes = object"
   ]
  },
  {
   "cell_type": "code",
   "execution_count": 7,
   "id": "da464972",
   "metadata": {
    "scrolled": true
   },
   "outputs": [
    {
     "data": {
      "text/plain": [
       "id                     316824\n",
       "term                        2\n",
       "grade                       7\n",
       "sub_grade                  35\n",
       "emp_title              143454\n",
       "emp_length                 11\n",
       "home_ownership              6\n",
       "verification_status         3\n",
       "issue_d                   115\n",
       "purpose                    14\n",
       "title                   40438\n",
       "earliest_cr_line          669\n",
       "initial_list_status         2\n",
       "application_type            3\n",
       "address                315228\n",
       "loan_status                 2\n",
       "dtype: int64"
      ]
     },
     "execution_count": 7,
     "metadata": {},
     "output_type": "execute_result"
    }
   ],
   "source": [
    "# Filter the columns with dtype 'object'\n",
    "object_columns = train_df.select_dtypes(include=['object']).columns\n",
    "\n",
    "# Get the number of unique values for each of these columns\n",
    "unique_counts = train_df[object_columns].nunique()\n",
    "\n",
    "unique_counts\n"
   ]
  },
  {
   "cell_type": "markdown",
   "id": "9cbf66bc",
   "metadata": {},
   "source": [
    "Looking at columns with large number of unique values\n",
    "1. emp_title: Drop\n",
    "contain inputs with no clear hierarchy of any form, and there are way too many variations to make sense out of it. To remove from analysis\n",
    "2. issue_d: Keep \n",
    "contain month and year. To convert as integer and use for analysis\n",
    "3. title: Drop \n",
    "There are a few common input, such as Debt Consolidation. However, these are already grouped up by \"purpose\" column. Hence, can disregard title from analysis\n",
    "4. earliest_cr_line: Keep \n",
    "contain month and year. To convert as integer and use for analysis\n",
    "5. address: Keep \n",
    "contain too many variations. However, also contain zipcode. Hence, to extract zipcode to be use for analysis."
   ]
  },
  {
   "cell_type": "markdown",
   "id": "b6c74f33",
   "metadata": {},
   "source": [
    "## Data Cleaning and Preparation"
   ]
  },
  {
   "cell_type": "code",
   "execution_count": 8,
   "id": "b0815999",
   "metadata": {},
   "outputs": [
    {
     "data": {
      "text/plain": [
       "0         1\n",
       "1         1\n",
       "2         0\n",
       "3         0\n",
       "4         0\n",
       "         ..\n",
       "316819    0\n",
       "316820    0\n",
       "316821    1\n",
       "316822    0\n",
       "316823    0\n",
       "Name: loan_status, Length: 316824, dtype: int64"
      ]
     },
     "execution_count": 8,
     "metadata": {},
     "output_type": "execute_result"
    }
   ],
   "source": [
    "#Re-label loan_status as 1/0 outcome\n",
    "\n",
    "def change_loan_status(loan_status):\n",
    "    if loan_status == \"Fully Paid\":\n",
    "        return 0\n",
    "    else:\n",
    "        return 1\n",
    "\n",
    "#Create a new df to maintain train_df for any other use subsequently\n",
    "train_df_cleaned = train_df\n",
    "\n",
    "#Apply loan status change function\n",
    "train_df_cleaned['loan_status'] = train_df_cleaned['loan_status'].apply(change_loan_status)\n",
    "\n",
    "#Check successful application\n",
    "train_df_cleaned['loan_status']"
   ]
  },
  {
   "cell_type": "code",
   "execution_count": 9,
   "id": "edae493a",
   "metadata": {
    "scrolled": true
   },
   "outputs": [
    {
     "name": "stdout",
     "output_type": "stream",
     "text": [
      "<class 'pandas.core.frame.DataFrame'>\n",
      "RangeIndex: 316824 entries, 0 to 316823\n",
      "Data columns (total 25 columns):\n",
      " #   Column                Non-Null Count   Dtype  \n",
      "---  ------                --------------   -----  \n",
      " 0   loan_amnt             316824 non-null  float64\n",
      " 1   term                  316824 non-null  object \n",
      " 2   int_rate              316824 non-null  float64\n",
      " 3   installment           316824 non-null  float64\n",
      " 4   grade                 316824 non-null  object \n",
      " 5   sub_grade             316824 non-null  object \n",
      " 6   emp_length            302162 non-null  object \n",
      " 7   home_ownership        316824 non-null  object \n",
      " 8   annual_inc            316824 non-null  float64\n",
      " 9   verification_status   316824 non-null  object \n",
      " 10  issue_d               316824 non-null  object \n",
      " 11  purpose               316824 non-null  object \n",
      " 12  dti                   316824 non-null  float64\n",
      " 13  earliest_cr_line      316824 non-null  object \n",
      " 14  open_acc              316824 non-null  float64\n",
      " 15  pub_rec               316824 non-null  float64\n",
      " 16  revol_bal             316824 non-null  float64\n",
      " 17  revol_util            316598 non-null  float64\n",
      " 18  total_acc             316824 non-null  float64\n",
      " 19  initial_list_status   316824 non-null  object \n",
      " 20  application_type      316824 non-null  object \n",
      " 21  mort_acc              286611 non-null  float64\n",
      " 22  pub_rec_bankruptcies  316388 non-null  float64\n",
      " 23  address               316824 non-null  object \n",
      " 24  loan_status           316824 non-null  int64  \n",
      "dtypes: float64(12), int64(1), object(12)\n",
      "memory usage: 60.4+ MB\n"
     ]
    }
   ],
   "source": [
    "#Drop columns that are deemed not needed for further analysis\n",
    "drop_list = [\"id\", \"emp_title\",\"title\"]\n",
    "\n",
    "train_df_cleaned = train_df_cleaned.drop(drop_list, axis = 1)\n",
    "\n",
    "train_df_cleaned.info()"
   ]
  },
  {
   "cell_type": "code",
   "execution_count": 10,
   "id": "10ddf479",
   "metadata": {
    "scrolled": true
   },
   "outputs": [
    {
     "name": "stdout",
     "output_type": "stream",
     "text": [
      "<class 'pandas.core.frame.DataFrame'>\n",
      "RangeIndex: 316824 entries, 0 to 316823\n",
      "Data columns (total 31 columns):\n",
      " #   Column                Non-Null Count   Dtype         \n",
      "---  ------                --------------   -----         \n",
      " 0   loan_amnt             316824 non-null  float64       \n",
      " 1   term                  316824 non-null  object        \n",
      " 2   int_rate              316824 non-null  float64       \n",
      " 3   installment           316824 non-null  float64       \n",
      " 4   grade                 316824 non-null  object        \n",
      " 5   sub_grade             316824 non-null  object        \n",
      " 6   emp_length            302162 non-null  object        \n",
      " 7   home_ownership        316824 non-null  object        \n",
      " 8   annual_inc            316824 non-null  float64       \n",
      " 9   verification_status   316824 non-null  object        \n",
      " 10  purpose               316824 non-null  object        \n",
      " 11  dti                   316824 non-null  float64       \n",
      " 12  open_acc              316824 non-null  float64       \n",
      " 13  pub_rec               316824 non-null  float64       \n",
      " 14  revol_bal             316824 non-null  float64       \n",
      " 15  revol_util            316598 non-null  float64       \n",
      " 16  total_acc             316824 non-null  float64       \n",
      " 17  initial_list_status   316824 non-null  object        \n",
      " 18  application_type      316824 non-null  object        \n",
      " 19  mort_acc              286611 non-null  float64       \n",
      " 20  pub_rec_bankruptcies  316388 non-null  float64       \n",
      " 21  address               316824 non-null  object        \n",
      " 22  loan_status           316824 non-null  int64         \n",
      " 23  ID_Month              316824 non-null  object        \n",
      " 24  ID_Year               316824 non-null  object        \n",
      " 25  ECL_Month             316824 non-null  object        \n",
      " 26  ECL_Year              316824 non-null  object        \n",
      " 27  ECL_Date              316824 non-null  datetime64[ns]\n",
      " 28  ID_Date               316824 non-null  datetime64[ns]\n",
      " 29  ECL_delta             316824 non-null  int64         \n",
      " 30  ID_delta              316824 non-null  int64         \n",
      "dtypes: datetime64[ns](2), float64(12), int64(3), object(14)\n",
      "memory usage: 74.9+ MB\n"
     ]
    }
   ],
   "source": [
    "#Convert time date columns into date delta to be used as a feature\n",
    "\n",
    "#Start with issue date (issue_d)\n",
    "train_df_cleaned[['ID_Month','ID_Year']] = train_df_cleaned['issue_d'].str.split('-', expand =True)\n",
    "\n",
    "#Drop issue_d column now that we no longer need it\n",
    "train_df_cleaned = train_df_cleaned.drop('issue_d', axis = 1)\n",
    "\n",
    "#Followed by earliest cr_line\n",
    "train_df_cleaned[['ECL_Month','ECL_Year']] = train_df_cleaned['earliest_cr_line'].str.split('-', expand =True)\n",
    "\n",
    "#Drop earliest_cr_line column now that we no longer need it\n",
    "train_df_cleaned = train_df_cleaned.drop('earliest_cr_line', axis = 1)\n",
    "\n",
    "#Convert months into numerical values\n",
    "train_df_cleaned['ECL_Month'] = train_df_cleaned['ECL_Month'].replace({'Jan':'01','Feb':'02','Mar':'03','Apr':'04','May':'05','Jun':'06','Jul':'07','Aug':'08','Sep':'09','Oct':'10','Nov':'11','Dec':'12'}) \n",
    "train_df_cleaned['ID_Month'] = train_df_cleaned['ID_Month'].replace({'Jan':'01','Feb':'02','Mar':'03','Apr':'04','May':'05','Jun':'06','Jul':'07','Aug':'08','Sep':'09','Oct':'10','Nov':'11','Dec':'12'}) \n",
    "\n",
    "#Convert ECL/ID month and year into date\n",
    "train_df_cleaned['ECL_Date'] = pd.to_datetime(train_df_cleaned['ECL_Month']+ \"-\" + train_df_cleaned['ECL_Year'], format = '%m-%Y')\n",
    "train_df_cleaned['ID_Date'] = pd.to_datetime(train_df_cleaned['ID_Month']+ \"-\" + train_df_cleaned['ID_Year'], format = '%m-%Y')\n",
    "\n",
    "#Get Date Delta between ECL/ID and today to use the delta as a feature\n",
    "train_df_cleaned['ECL_delta'] = (pd.Timestamp('today').normalize() - train_df_cleaned['ECL_Date']).dt.days\n",
    "train_df_cleaned['ID_delta'] = (pd.Timestamp('today').normalize() - train_df_cleaned['ID_Date']).dt.days\n",
    "\n",
    "train_df_cleaned.info()"
   ]
  },
  {
   "cell_type": "code",
   "execution_count": 11,
   "id": "0f30bb77",
   "metadata": {},
   "outputs": [],
   "source": [
    "#Drop unnecessary date and year columns\n",
    "date_drop_list = [\"ID_Month\", \"ID_Year\",\"ID_Date\",\"ECL_Month\",\"ECL_Year\",\"ECL_Date\"]\n",
    "\n",
    "train_df_cleaned = train_df_cleaned.drop(date_drop_list, axis = 1)"
   ]
  },
  {
   "cell_type": "code",
   "execution_count": 12,
   "id": "1636fea8",
   "metadata": {
    "scrolled": true
   },
   "outputs": [
    {
     "data": {
      "text/html": [
       "<div>\n",
       "<style scoped>\n",
       "    .dataframe tbody tr th:only-of-type {\n",
       "        vertical-align: middle;\n",
       "    }\n",
       "\n",
       "    .dataframe tbody tr th {\n",
       "        vertical-align: top;\n",
       "    }\n",
       "\n",
       "    .dataframe thead th {\n",
       "        text-align: right;\n",
       "    }\n",
       "</style>\n",
       "<table border=\"1\" class=\"dataframe\">\n",
       "  <thead>\n",
       "    <tr style=\"text-align: right;\">\n",
       "      <th></th>\n",
       "      <th>loan_amnt</th>\n",
       "      <th>term</th>\n",
       "      <th>int_rate</th>\n",
       "      <th>installment</th>\n",
       "      <th>grade</th>\n",
       "      <th>sub_grade</th>\n",
       "      <th>emp_length</th>\n",
       "      <th>home_ownership</th>\n",
       "      <th>annual_inc</th>\n",
       "      <th>verification_status</th>\n",
       "      <th>...</th>\n",
       "      <th>revol_util</th>\n",
       "      <th>total_acc</th>\n",
       "      <th>initial_list_status</th>\n",
       "      <th>application_type</th>\n",
       "      <th>mort_acc</th>\n",
       "      <th>pub_rec_bankruptcies</th>\n",
       "      <th>loan_status</th>\n",
       "      <th>ECL_delta</th>\n",
       "      <th>ID_delta</th>\n",
       "      <th>zipcode</th>\n",
       "    </tr>\n",
       "  </thead>\n",
       "  <tbody>\n",
       "    <tr>\n",
       "      <th>0</th>\n",
       "      <td>25000.0</td>\n",
       "      <td>60 months</td>\n",
       "      <td>14.83</td>\n",
       "      <td>592.52</td>\n",
       "      <td>D</td>\n",
       "      <td>D3</td>\n",
       "      <td>10+ years</td>\n",
       "      <td>RENT</td>\n",
       "      <td>109000.0</td>\n",
       "      <td>Verified</td>\n",
       "      <td>...</td>\n",
       "      <td>41.5</td>\n",
       "      <td>39.0</td>\n",
       "      <td>f</td>\n",
       "      <td>INDIVIDUAL</td>\n",
       "      <td>NaN</td>\n",
       "      <td>0.0</td>\n",
       "      <td>1</td>\n",
       "      <td>10197</td>\n",
       "      <td>4962</td>\n",
       "      <td>93700</td>\n",
       "    </tr>\n",
       "    <tr>\n",
       "      <th>1</th>\n",
       "      <td>9500.0</td>\n",
       "      <td>36 months</td>\n",
       "      <td>12.99</td>\n",
       "      <td>320.05</td>\n",
       "      <td>C</td>\n",
       "      <td>C2</td>\n",
       "      <td>NaN</td>\n",
       "      <td>MORTGAGE</td>\n",
       "      <td>40000.0</td>\n",
       "      <td>Verified</td>\n",
       "      <td>...</td>\n",
       "      <td>82.6</td>\n",
       "      <td>20.0</td>\n",
       "      <td>f</td>\n",
       "      <td>INDIVIDUAL</td>\n",
       "      <td>2.0</td>\n",
       "      <td>1.0</td>\n",
       "      <td>1</td>\n",
       "      <td>14154</td>\n",
       "      <td>3470</td>\n",
       "      <td>48052</td>\n",
       "    </tr>\n",
       "    <tr>\n",
       "      <th>2</th>\n",
       "      <td>9000.0</td>\n",
       "      <td>36 months</td>\n",
       "      <td>8.39</td>\n",
       "      <td>283.65</td>\n",
       "      <td>B</td>\n",
       "      <td>B1</td>\n",
       "      <td>10+ years</td>\n",
       "      <td>MORTGAGE</td>\n",
       "      <td>50000.0</td>\n",
       "      <td>Not Verified</td>\n",
       "      <td>...</td>\n",
       "      <td>23.2</td>\n",
       "      <td>20.0</td>\n",
       "      <td>w</td>\n",
       "      <td>INDIVIDUAL</td>\n",
       "      <td>2.0</td>\n",
       "      <td>0.0</td>\n",
       "      <td>0</td>\n",
       "      <td>10228</td>\n",
       "      <td>3014</td>\n",
       "      <td>05113</td>\n",
       "    </tr>\n",
       "    <tr>\n",
       "      <th>3</th>\n",
       "      <td>16700.0</td>\n",
       "      <td>60 months</td>\n",
       "      <td>22.99</td>\n",
       "      <td>470.69</td>\n",
       "      <td>F</td>\n",
       "      <td>F1</td>\n",
       "      <td>7 years</td>\n",
       "      <td>MORTGAGE</td>\n",
       "      <td>68000.0</td>\n",
       "      <td>Verified</td>\n",
       "      <td>...</td>\n",
       "      <td>55.3</td>\n",
       "      <td>26.0</td>\n",
       "      <td>f</td>\n",
       "      <td>INDIVIDUAL</td>\n",
       "      <td>2.0</td>\n",
       "      <td>0.0</td>\n",
       "      <td>0</td>\n",
       "      <td>6879</td>\n",
       "      <td>3411</td>\n",
       "      <td>00813</td>\n",
       "    </tr>\n",
       "    <tr>\n",
       "      <th>4</th>\n",
       "      <td>2800.0</td>\n",
       "      <td>36 months</td>\n",
       "      <td>15.80</td>\n",
       "      <td>98.17</td>\n",
       "      <td>C</td>\n",
       "      <td>C3</td>\n",
       "      <td>9 years</td>\n",
       "      <td>MORTGAGE</td>\n",
       "      <td>218554.0</td>\n",
       "      <td>Verified</td>\n",
       "      <td>...</td>\n",
       "      <td>90.7</td>\n",
       "      <td>44.0</td>\n",
       "      <td>w</td>\n",
       "      <td>INDIVIDUAL</td>\n",
       "      <td>7.0</td>\n",
       "      <td>0.0</td>\n",
       "      <td>0</td>\n",
       "      <td>13942</td>\n",
       "      <td>4049</td>\n",
       "      <td>00813</td>\n",
       "    </tr>\n",
       "    <tr>\n",
       "      <th>...</th>\n",
       "      <td>...</td>\n",
       "      <td>...</td>\n",
       "      <td>...</td>\n",
       "      <td>...</td>\n",
       "      <td>...</td>\n",
       "      <td>...</td>\n",
       "      <td>...</td>\n",
       "      <td>...</td>\n",
       "      <td>...</td>\n",
       "      <td>...</td>\n",
       "      <td>...</td>\n",
       "      <td>...</td>\n",
       "      <td>...</td>\n",
       "      <td>...</td>\n",
       "      <td>...</td>\n",
       "      <td>...</td>\n",
       "      <td>...</td>\n",
       "      <td>...</td>\n",
       "      <td>...</td>\n",
       "      <td>...</td>\n",
       "      <td>...</td>\n",
       "    </tr>\n",
       "    <tr>\n",
       "      <th>316819</th>\n",
       "      <td>20000.0</td>\n",
       "      <td>36 months</td>\n",
       "      <td>7.89</td>\n",
       "      <td>625.72</td>\n",
       "      <td>A</td>\n",
       "      <td>A5</td>\n",
       "      <td>1 year</td>\n",
       "      <td>MORTGAGE</td>\n",
       "      <td>70000.0</td>\n",
       "      <td>Verified</td>\n",
       "      <td>...</td>\n",
       "      <td>21.2</td>\n",
       "      <td>26.0</td>\n",
       "      <td>f</td>\n",
       "      <td>INDIVIDUAL</td>\n",
       "      <td>2.0</td>\n",
       "      <td>1.0</td>\n",
       "      <td>0</td>\n",
       "      <td>8187</td>\n",
       "      <td>3380</td>\n",
       "      <td>70466</td>\n",
       "    </tr>\n",
       "    <tr>\n",
       "      <th>316820</th>\n",
       "      <td>12400.0</td>\n",
       "      <td>36 months</td>\n",
       "      <td>13.67</td>\n",
       "      <td>421.82</td>\n",
       "      <td>B</td>\n",
       "      <td>B5</td>\n",
       "      <td>10+ years</td>\n",
       "      <td>MORTGAGE</td>\n",
       "      <td>60000.0</td>\n",
       "      <td>Verified</td>\n",
       "      <td>...</td>\n",
       "      <td>58.2</td>\n",
       "      <td>13.0</td>\n",
       "      <td>w</td>\n",
       "      <td>INDIVIDUAL</td>\n",
       "      <td>0.0</td>\n",
       "      <td>1.0</td>\n",
       "      <td>0</td>\n",
       "      <td>10075</td>\n",
       "      <td>3866</td>\n",
       "      <td>30723</td>\n",
       "    </tr>\n",
       "    <tr>\n",
       "      <th>316821</th>\n",
       "      <td>30000.0</td>\n",
       "      <td>36 months</td>\n",
       "      <td>12.69</td>\n",
       "      <td>1006.35</td>\n",
       "      <td>C</td>\n",
       "      <td>C2</td>\n",
       "      <td>1 year</td>\n",
       "      <td>MORTGAGE</td>\n",
       "      <td>80000.0</td>\n",
       "      <td>Source Verified</td>\n",
       "      <td>...</td>\n",
       "      <td>66.2</td>\n",
       "      <td>28.0</td>\n",
       "      <td>w</td>\n",
       "      <td>INDIVIDUAL</td>\n",
       "      <td>3.0</td>\n",
       "      <td>0.0</td>\n",
       "      <td>1</td>\n",
       "      <td>8644</td>\n",
       "      <td>3289</td>\n",
       "      <td>48052</td>\n",
       "    </tr>\n",
       "    <tr>\n",
       "      <th>316822</th>\n",
       "      <td>14000.0</td>\n",
       "      <td>36 months</td>\n",
       "      <td>14.31</td>\n",
       "      <td>480.60</td>\n",
       "      <td>C</td>\n",
       "      <td>C4</td>\n",
       "      <td>NaN</td>\n",
       "      <td>RENT</td>\n",
       "      <td>70000.0</td>\n",
       "      <td>Not Verified</td>\n",
       "      <td>...</td>\n",
       "      <td>51.1</td>\n",
       "      <td>10.0</td>\n",
       "      <td>w</td>\n",
       "      <td>INDIVIDUAL</td>\n",
       "      <td>0.0</td>\n",
       "      <td>0.0</td>\n",
       "      <td>0</td>\n",
       "      <td>6757</td>\n",
       "      <td>3439</td>\n",
       "      <td>30723</td>\n",
       "    </tr>\n",
       "    <tr>\n",
       "      <th>316823</th>\n",
       "      <td>12000.0</td>\n",
       "      <td>60 months</td>\n",
       "      <td>10.75</td>\n",
       "      <td>259.42</td>\n",
       "      <td>B</td>\n",
       "      <td>B4</td>\n",
       "      <td>2 years</td>\n",
       "      <td>RENT</td>\n",
       "      <td>80000.0</td>\n",
       "      <td>Not Verified</td>\n",
       "      <td>...</td>\n",
       "      <td>43.7</td>\n",
       "      <td>17.0</td>\n",
       "      <td>w</td>\n",
       "      <td>INDIVIDUAL</td>\n",
       "      <td>1.0</td>\n",
       "      <td>0.0</td>\n",
       "      <td>0</td>\n",
       "      <td>8767</td>\n",
       "      <td>3074</td>\n",
       "      <td>00813</td>\n",
       "    </tr>\n",
       "  </tbody>\n",
       "</table>\n",
       "<p>316824 rows × 25 columns</p>\n",
       "</div>"
      ],
      "text/plain": [
       "        loan_amnt        term  int_rate  installment grade sub_grade  \\\n",
       "0         25000.0   60 months     14.83       592.52     D        D3   \n",
       "1          9500.0   36 months     12.99       320.05     C        C2   \n",
       "2          9000.0   36 months      8.39       283.65     B        B1   \n",
       "3         16700.0   60 months     22.99       470.69     F        F1   \n",
       "4          2800.0   36 months     15.80        98.17     C        C3   \n",
       "...           ...         ...       ...          ...   ...       ...   \n",
       "316819    20000.0   36 months      7.89       625.72     A        A5   \n",
       "316820    12400.0   36 months     13.67       421.82     B        B5   \n",
       "316821    30000.0   36 months     12.69      1006.35     C        C2   \n",
       "316822    14000.0   36 months     14.31       480.60     C        C4   \n",
       "316823    12000.0   60 months     10.75       259.42     B        B4   \n",
       "\n",
       "       emp_length home_ownership  annual_inc verification_status  ...  \\\n",
       "0       10+ years           RENT    109000.0            Verified  ...   \n",
       "1             NaN       MORTGAGE     40000.0            Verified  ...   \n",
       "2       10+ years       MORTGAGE     50000.0        Not Verified  ...   \n",
       "3         7 years       MORTGAGE     68000.0            Verified  ...   \n",
       "4         9 years       MORTGAGE    218554.0            Verified  ...   \n",
       "...           ...            ...         ...                 ...  ...   \n",
       "316819     1 year       MORTGAGE     70000.0            Verified  ...   \n",
       "316820  10+ years       MORTGAGE     60000.0            Verified  ...   \n",
       "316821     1 year       MORTGAGE     80000.0     Source Verified  ...   \n",
       "316822        NaN           RENT     70000.0        Not Verified  ...   \n",
       "316823    2 years           RENT     80000.0        Not Verified  ...   \n",
       "\n",
       "       revol_util  total_acc  initial_list_status  application_type  mort_acc  \\\n",
       "0            41.5       39.0                    f        INDIVIDUAL       NaN   \n",
       "1            82.6       20.0                    f        INDIVIDUAL       2.0   \n",
       "2            23.2       20.0                    w        INDIVIDUAL       2.0   \n",
       "3            55.3       26.0                    f        INDIVIDUAL       2.0   \n",
       "4            90.7       44.0                    w        INDIVIDUAL       7.0   \n",
       "...           ...        ...                  ...               ...       ...   \n",
       "316819       21.2       26.0                    f        INDIVIDUAL       2.0   \n",
       "316820       58.2       13.0                    w        INDIVIDUAL       0.0   \n",
       "316821       66.2       28.0                    w        INDIVIDUAL       3.0   \n",
       "316822       51.1       10.0                    w        INDIVIDUAL       0.0   \n",
       "316823       43.7       17.0                    w        INDIVIDUAL       1.0   \n",
       "\n",
       "        pub_rec_bankruptcies  loan_status ECL_delta ID_delta  zipcode  \n",
       "0                        0.0            1     10197     4962    93700  \n",
       "1                        1.0            1     14154     3470    48052  \n",
       "2                        0.0            0     10228     3014    05113  \n",
       "3                        0.0            0      6879     3411    00813  \n",
       "4                        0.0            0     13942     4049    00813  \n",
       "...                      ...          ...       ...      ...      ...  \n",
       "316819                   1.0            0      8187     3380    70466  \n",
       "316820                   1.0            0     10075     3866    30723  \n",
       "316821                   0.0            1      8644     3289    48052  \n",
       "316822                   0.0            0      6757     3439    30723  \n",
       "316823                   0.0            0      8767     3074    00813  \n",
       "\n",
       "[316824 rows x 25 columns]"
      ]
     },
     "execution_count": 12,
     "metadata": {},
     "output_type": "execute_result"
    }
   ],
   "source": [
    "#Extracting zipcode\n",
    "\n",
    "train_df_cleaned['zipcode'] = train_df_cleaned['address'].str.split().str[-1]\n",
    "train_df_cleaned = train_df_cleaned.drop(columns=[\"address\"])\n",
    "\n",
    "#Convert zipcode Dtype to float64\n",
    "train_df_cleaned['zipcode'] = train_df_cleaned['zipcode'].astype('object')\n",
    "\n",
    "train_df_cleaned"
   ]
  },
  {
   "cell_type": "code",
   "execution_count": 13,
   "id": "cb7dc99d",
   "metadata": {},
   "outputs": [
    {
     "data": {
      "text/plain": [
       "['10+ years',\n",
       " nan,\n",
       " '7 years',\n",
       " '9 years',\n",
       " '5 years',\n",
       " '1 year',\n",
       " '2 years',\n",
       " '3 years',\n",
       " '6 years',\n",
       " '4 years',\n",
       " '8 years',\n",
       " '< 1 year']"
      ]
     },
     "execution_count": 13,
     "metadata": {},
     "output_type": "execute_result"
    }
   ],
   "source": [
    "train_df_cleaned['emp_length'].unique().tolist()"
   ]
  },
  {
   "cell_type": "code",
   "execution_count": 14,
   "id": "d8791cf2",
   "metadata": {},
   "outputs": [],
   "source": [
    "#Convert all missing value in emp_length to < 1 year. Based on data description, null/0 values = < 1 year\n",
    "\n",
    "train_df_cleaned['emp_length'] = train_df_cleaned['emp_length'].fillna(\"0\")\n",
    "train_df_cleaned['emp_length'] = train_df_cleaned['emp_length'].str.replace('< 1 year','0')\n",
    "train_df_cleaned['emp_length'] = train_df_cleaned['emp_length'].str.replace('10\\+ years','10')\n",
    "train_df_cleaned['emp_length'] = train_df_cleaned['emp_length'].str.replace(' years','').str.replace(' year','')\n"
   ]
  },
  {
   "cell_type": "code",
   "execution_count": 15,
   "id": "6ec69e4b",
   "metadata": {},
   "outputs": [
    {
     "data": {
      "text/plain": [
       "loan_amnt                1392\n",
       "term                        2\n",
       "int_rate                  560\n",
       "installment             50986\n",
       "grade                       7\n",
       "sub_grade                  35\n",
       "emp_length                 11\n",
       "home_ownership              6\n",
       "annual_inc              22940\n",
       "verification_status         3\n",
       "purpose                    14\n",
       "dti                      4221\n",
       "open_acc                   59\n",
       "pub_rec                    18\n",
       "revol_bal               51985\n",
       "revol_util               1197\n",
       "total_acc                 117\n",
       "initial_list_status         2\n",
       "application_type            3\n",
       "mort_acc                   32\n",
       "pub_rec_bankruptcies        9\n",
       "loan_status                 2\n",
       "ECL_delta                 669\n",
       "ID_delta                  115\n",
       "zipcode                    10\n",
       "dtype: int64"
      ]
     },
     "execution_count": 15,
     "metadata": {},
     "output_type": "execute_result"
    }
   ],
   "source": [
    "train_df_cleaned.nunique()"
   ]
  },
  {
   "cell_type": "markdown",
   "id": "74d96657",
   "metadata": {},
   "source": [
    "Column:                       Choice of Graph/Analysis:\n",
    "loan_amnt                1392 scatter plot/heatmap\n",
    "term                        2 bar chart\n",
    "int_rate                  560 scatter plot/heatmap\n",
    "installment             50986 scatter plot/heatmap\n",
    "grade                       7 bar chart\n",
    "sub_grade                  35 N/A - using 'grade' will suffice\n",
    "emp_length                 11 bar chart\n",
    "home_ownership              6 bar chart\n",
    "annual_inc              22940 scatter plot/heatmap\n",
    "verification_status         3 bar chart\n",
    "purpose                    14 bar chart\n",
    "dti                      4221 scatter plot/heatmap\n",
    "open_acc                   59 scatter plot/heatmap\n",
    "pub_rec                    18 scatter plot/heatmap\n",
    "revol_bal               51985 scatter plot/heatmap\n",
    "revol_util               1197 scatter plot/heatmap\n",
    "total_acc                 117 scatter plot/heatmap\n",
    "initial_list_status         2 bar chart\n",
    "application_type            3 bar chart\n",
    "mort_acc                   32 scatter plot/heatmap\n",
    "pub_rec_bankruptcies        9 Require additional cleaning - delete missing rows, then barchart\n",
    "loan_status                 2 NA\n",
    "ECL_delta                 669 scatter plot/heatmap\n",
    "ID_delta                  115 scatter plot/heatmap\n",
    "zipcode                    10 bar chart"
   ]
  },
  {
   "cell_type": "markdown",
   "id": "cebdb7ba",
   "metadata": {},
   "source": [
    "## Exploratory Data Analysis"
   ]
  },
  {
   "cell_type": "code",
   "execution_count": 16,
   "id": "69d6237f",
   "metadata": {},
   "outputs": [
    {
     "name": "stdout",
     "output_type": "stream",
     "text": [
      "<class 'pandas.core.frame.DataFrame'>\n",
      "RangeIndex: 316824 entries, 0 to 316823\n",
      "Data columns (total 9 columns):\n",
      " #   Column               Non-Null Count   Dtype \n",
      "---  ------               --------------   ----- \n",
      " 0   term                 316824 non-null  object\n",
      " 1   grade                316824 non-null  object\n",
      " 2   emp_length           316824 non-null  object\n",
      " 3   home_ownership       316824 non-null  object\n",
      " 4   verification_status  316824 non-null  object\n",
      " 5   purpose              316824 non-null  object\n",
      " 6   initial_list_status  316824 non-null  object\n",
      " 7   application_type     316824 non-null  object\n",
      " 8   zipcode              316824 non-null  object\n",
      "dtypes: object(9)\n",
      "memory usage: 21.8+ MB\n"
     ]
    }
   ],
   "source": [
    "#Bar Chart Analysis for Categorical Data\n",
    "\n",
    "BC_columns = ['term','grade','emp_length','home_ownership',\n",
    "              'verification_status','purpose',\n",
    "              'initial_list_status', 'application_type', 'zipcode'\n",
    "             ]\n",
    "\n",
    "train_df_cleaned_BC = train_df_cleaned[BC_columns]\n",
    "\n",
    "train_df_cleaned_BC.info()\n"
   ]
  },
  {
   "cell_type": "code",
   "execution_count": 17,
   "id": "1a9dceb3",
   "metadata": {},
   "outputs": [
    {
     "data": {
      "image/png": "[encoded data removed]",
      "text/plain": [
       "<Figure size 1078.28x500 with 1 Axes>"
      ]
     },
     "metadata": {},
     "output_type": "display_data"
    },
    {
     "data": {
      "image/png": "[encoded data removed]",
      "text/plain": [
       "<Figure size 1078.28x500 with 1 Axes>"
      ]
     },
     "metadata": {},
     "output_type": "display_data"
    },
    {
     "data": {
      "image/png": "[encoded data removed]",
      "text/plain": [
       "<Figure size 1078.28x500 with 1 Axes>"
      ]
     },
     "metadata": {},
     "output_type": "display_data"
    },
    {
     "data": {
      "image/png": "[encoded data removed]",
      "text/plain": [
       "<Figure size 1078.28x500 with 1 Axes>"
      ]
     },
     "metadata": {},
     "output_type": "display_data"
    },
    {
     "data": {
      "image/png": "[encoded data removed]",
      "text/plain": [
       "<Figure size 1078.28x500 with 1 Axes>"
      ]
     },
     "metadata": {},
     "output_type": "display_data"
    },
    {
     "data": {
      "image/png": "[encoded data removed]",
      "text/plain": [
       "<Figure size 1078.28x500 with 1 Axes>"
      ]
     },
     "metadata": {},
     "output_type": "display_data"
    },
    {
     "data": {
      "image/png": "[encoded data removed]",
      "text/plain": [
       "<Figure size 1078.28x500 with 1 Axes>"
      ]
     },
     "metadata": {},
     "output_type": "display_data"
    },
    {
     "data": {
      "image/png": "[encoded data removed]",
      "text/plain": [
       "<Figure size 1078.28x500 with 1 Axes>"
      ]
     },
     "metadata": {},
     "output_type": "display_data"
    },
    {
     "data": {
      "image/png": "[encoded data removed]",
      "text/plain": [
       "<Figure size 1078.28x500 with 1 Axes>"
      ]
     },
     "metadata": {},
     "output_type": "display_data"
    }
   ],
   "source": [
    "for col in list(train_df_cleaned_BC.columns):\n",
    "    sns.set(font_scale=0.8)\n",
    "    fig = sns.catplot(x=col, hue=\"loan_status\", data=train_df_cleaned, kind=\"count\", height=5, aspect=2, order=sorted(train_df_cleaned[col].astype(str).unique().tolist()))\n",
    "    \n",
    "    # Get the count data from the plot\n",
    "    ax = fig.facet_axis(0, 0)\n",
    "    for p in ax.patches:\n",
    "        height = p.get_height()\n",
    "        ax.annotate(f'{int(height)}', (p.get_x() + p.get_width() / 2., height), ha='center', va='center', fontsize=10, color='black', xytext=(0, 5), textcoords='offset points')\n",
    "    \n",
    "    plt.title(f'Count plot for {col}')\n",
    "    plt.show()"
   ]
  },
  {
   "cell_type": "markdown",
   "id": "faf5c23d",
   "metadata": {},
   "source": [
    "1. Term: 15.13% of 36-months defaulted vs 32% of 60-months defaulted. Suggest 60-months are at higher risk. \n",
    "\n",
    "2. Grade: graph shows as grade drops from A to G, risk of default increases.\n",
    "\n",
    "3. emp_length: graph shows that % default as emp_length is inversely related to default rate. \n",
    "\n",
    "4. home_ownership: Mortgage - 17% default rate, Own - 21% default rate, Rent - 23.15% default rate. Rent generally have higher risk of default. Suggest some relation. Can use for training\n",
    "\n",
    "5. verification: suggest \"Not verified\" actually has lower default rate. Could be due to income from undisclosed sources. May not be a good data to use for model. \n",
    "\n",
    "6. purpose: suggest for all purpose, default rate is similar (about 1/5). Hence, unlikely to use\n",
    "\n",
    "7. Initial_list_status: both roughly same % default. Hence unlikely to use\n",
    "\n",
    "8. application_type: not enough data for other categories. Unlikely to use\n",
    "\n",
    "9. zipcode: certain zip code shows high rate or absolute default while others don't. To use for training\n",
    "\n",
    "Therefore, for categorical features, use \"term\", \"grade\",\"emp_length\" and \"zipcode\".\n",
    "For grade, can consider using subgrade"
   ]
  },
  {
   "cell_type": "code",
   "execution_count": 18,
   "id": "a4d97bcb",
   "metadata": {
    "scrolled": true
   },
   "outputs": [
    {
     "data": {
      "application/vnd.plotly.v1+json": {
       "config": {
        "plotlyServerURL": "https://plot.ly"
       },
       "data": [
        {
         "coloraxis": "coloraxis",
         "hovertemplate": "x: %{x}<br>y: %{y}<br>color: %{z}<extra></extra>",
         "name": "0",
         "texttemplate": "%{z}",
         "type": "heatmap",
         "x": [
          "loan_status",
          "int_rate",
          "revol_util",
          "mort_acc",
          "loan_amnt",
          "ID_delta",
          "dti",
          "annual_inc",
          "installment",
          "ECL_delta",
          "open_acc",
          "pub_rec",
          "total_acc",
          "revol_bal"
         ],
         "xaxis": "x",
         "y": [
          "loan_status",
          "int_rate",
          "revol_util",
          "mort_acc",
          "loan_amnt",
          "ID_delta",
          "dti",
          "annual_inc",
          "installment",
          "ECL_delta",
          "open_acc",
          "pub_rec",
          "total_acc",
          "revol_bal"
         ],
         "yaxis": "y",
         "z": [
          [
           1,
           0.2485496722170716,
           0.08252619187092433,
           -0.07446710723974223,
           0.05979025668776048,
           -0.058080094492984756,
           0.057458374273384336,
           -0.053201609807243956,
           0.041376453092094666,
           -0.039407250880644014,
           0.027598044567051415,
           0.01887980351799463,
           -0.01870668711661046,
           -0.010967123526266729
          ],
          [
           0.2485496722170716,
           1,
           0.29396910299377343,
           -0.08250763797467575,
           0.1711228575953254,
           -0.051191122882761626,
           0.07178157756132651,
           -0.05535641957680287,
           0.16503680191637338,
           -0.10739148247371161,
           0.012370548287371896,
           0.0631486490075487,
           -0.035926763244418965,
           -0.010529579243151042
          ],
          [
           0.08252619187092433,
           0.29396910299377343,
           1,
           0.00725092453453649,
           0.10072291343233539,
           0.05516456338775036,
           0.08072031116266373,
           0.02672423207450989,
           0.12454687555161255,
           0.008089501578891196,
           -0.1308284155223179,
           -0.07939366381315009,
           -0.1042957917158857,
           0.22843458587457316
          ],
          [
           -0.07446710723974223,
           -0.08250763797467575,
           0.00725092453453649,
           1,
           0.22083865496987842,
           -0.009786986015451634,
           -0.024059560669833457,
           0.23491144389563154,
           0.19168997725276982,
           0.2911836533713551,
           0.10803218425412794,
           0.012136960002341577,
           0.3802730126043341,
           0.1941914444733886
          ],
          [
           0.05979025668776048,
           0.1711228575953254,
           0.10072291343233539,
           0.22083865496987842,
           1,
           -0.11348262789373265,
           0.01478152271422871,
           0.3338056437860663,
           0.9539417052076734,
           0.14747570765643125,
           0.19804150300766776,
           -0.07997398059718525,
           0.22324214624474875,
           0.3308797242596832
          ],
          [
           -0.058080094492984756,
           -0.051191122882761626,
           0.05516456338775036,
           -0.009786986015451634,
           -0.11348262789373265,
           1,
           -0.07043034180388417,
           -0.049772751436567515,
           -0.10096964783754797,
           0.10047511064280991,
           -0.13915550778543526,
           -0.1295038562313726,
           -0.11195320883495553,
           -0.03587533698548221
          ],
          [
           0.057458374273384336,
           0.07178157756132651,
           0.08072031116266373,
           -0.024059560669833457,
           0.01478152271422871,
           -0.07043034180388417,
           1,
           -0.07454830415213087,
           0.014136579507027102,
           0.009191034194409921,
           0.12417786638361775,
           -0.01731929347853436,
           0.09275819344019842,
           0.05797126607644004
          ],
          [
           -0.053201609807243956,
           -0.05535641957680287,
           0.02672423207450989,
           0.23491144389563154,
           0.3338056437860663,
           -0.049772751436567515,
           -0.07454830415213087,
           1,
           0.3268935739957797,
           0.1396183076874687,
           0.1350726359310943,
           -0.013425811981115417,
           0.1921630047025181,
           0.30383881734661267
          ],
          [
           0.041376453092094666,
           0.16503680191637338,
           0.12454687555161255,
           0.19168997725276982,
           0.9539417052076734,
           -0.10096964783754797,
           0.014136579507027102,
           0.3268935739957797,
           1,
           0.13233243251752727,
           0.18872403664084805,
           -0.0696597626021569,
           0.20179767971473098,
           0.3187951481022742
          ],
          [
           -0.039407250880644014,
           -0.10739148247371161,
           0.008089501578891196,
           0.2911836533713551,
           0.14747570765643125,
           0.10047511064280991,
           0.009191034194409921,
           0.1396183076874687,
           0.13233243251752727,
           1,
           0.12206142517123227,
           0.05463717275721675,
           0.2767114801106859,
           0.20034652567340255
          ],
          [
           0.027598044567051415,
           0.012370548287371896,
           -0.1308284155223179,
           0.10803218425412794,
           0.19804150300766776,
           -0.13915550778543526,
           0.12417786638361775,
           0.1350726359310943,
           0.18872403664084805,
           0.12206142517123227,
           1,
           -0.018457983076053126,
           0.6804604563098873,
           0.2213957349081067
          ],
          [
           0.01887980351799463,
           0.0631486490075487,
           -0.07939366381315009,
           0.012136960002341577,
           -0.07997398059718525,
           -0.1295038562313726,
           -0.01731929347853436,
           -0.013425811981115417,
           -0.0696597626021569,
           0.05463717275721675,
           -0.018457983076053126,
           1,
           0.021375332678639454,
           -0.10574361513242034
          ],
          [
           -0.01870668711661046,
           -0.035926763244418965,
           -0.1042957917158857,
           0.3802730126043341,
           0.22324214624474875,
           -0.11195320883495553,
           0.09275819344019842,
           0.1921630047025181,
           0.20179767971473098,
           0.2767114801106859,
           0.6804604563098873,
           0.021375332678639454,
           1,
           0.19134607737477854
          ],
          [
           -0.010967123526266729,
           -0.010529579243151042,
           0.22843458587457316,
           0.1941914444733886,
           0.3308797242596832,
           -0.03587533698548221,
           0.05797126607644004,
           0.30383881734661267,
           0.3187951481022742,
           0.20034652567340255,
           0.2213957349081067,
           -0.10574361513242034,
           0.19134607737477854,
           1
          ]
         ]
        }
       ],
       "layout": {
        "coloraxis": {
         "colorscale": [
          [
           0,
           "#0d0887"
          ],
          [
           0.1111111111111111,
           "#46039f"
          ],
          [
           0.2222222222222222,
           "#7201a8"
          ],
          [
           0.3333333333333333,
           "#9c179e"
          ],
          [
           0.4444444444444444,
           "#bd3786"
          ],
          [
           0.5555555555555556,
           "#d8576b"
          ],
          [
           0.6666666666666666,
           "#ed7953"
          ],
          [
           0.7777777777777778,
           "#fb9f3a"
          ],
          [
           0.8888888888888888,
           "#fdca26"
          ],
          [
           1,
           "#f0f921"
          ]
         ]
        },
        "margin": {
         "t": 60
        },
        "template": {
         "data": {
          "bar": [
           {
            "error_x": {
             "color": "#2a3f5f"
            },
            "error_y": {
             "color": "#2a3f5f"
            },
            "marker": {
             "line": {
              "color": "#E5ECF6",
              "width": 0.5
             },
             "pattern": {
              "fillmode": "overlay",
              "size": 10,
              "solidity": 0.2
             }
            },
            "type": "bar"
           }
          ],
          "barpolar": [
           {
            "marker": {
             "line": {
              "color": "#E5ECF6",
              "width": 0.5
             },
             "pattern": {
              "fillmode": "overlay",
              "size": 10,
              "solidity": 0.2
             }
            },
            "type": "barpolar"
           }
          ],
          "carpet": [
           {
            "aaxis": {
             "endlinecolor": "#2a3f5f",
             "gridcolor": "white",
             "linecolor": "white",
             "minorgridcolor": "white",
             "startlinecolor": "#2a3f5f"
            },
            "baxis": {
             "endlinecolor": "#2a3f5f",
             "gridcolor": "white",
             "linecolor": "white",
             "minorgridcolor": "white",
             "startlinecolor": "#2a3f5f"
            },
            "type": "carpet"
           }
          ],
          "choropleth": [
           {
            "colorbar": {
             "outlinewidth": 0,
             "ticks": ""
            },
            "type": "choropleth"
           }
          ],
          "contour": [
           {
            "colorbar": {
             "outlinewidth": 0,
             "ticks": ""
            },
            "colorscale": [
             [
              0,
              "#0d0887"
             ],
             [
              0.1111111111111111,
              "#46039f"
             ],
             [
              0.2222222222222222,
              "#7201a8"
             ],
             [
              0.3333333333333333,
              "#9c179e"
             ],
             [
              0.4444444444444444,
              "#bd3786"
             ],
             [
              0.5555555555555556,
              "#d8576b"
             ],
             [
              0.6666666666666666,
              "#ed7953"
             ],
             [
              0.7777777777777778,
              "#fb9f3a"
             ],
             [
              0.8888888888888888,
              "#fdca26"
             ],
             [
              1,
              "#f0f921"
             ]
            ],
            "type": "contour"
           }
          ],
          "contourcarpet": [
           {
            "colorbar": {
             "outlinewidth": 0,
             "ticks": ""
            },
            "type": "contourcarpet"
           }
          ],
          "heatmap": [
           {
            "colorbar": {
             "outlinewidth": 0,
             "ticks": ""
            },
            "colorscale": [
             [
              0,
              "#0d0887"
             ],
             [
              0.1111111111111111,
              "#46039f"
             ],
             [
              0.2222222222222222,
              "#7201a8"
             ],
             [
              0.3333333333333333,
              "#9c179e"
             ],
             [
              0.4444444444444444,
              "#bd3786"
             ],
             [
              0.5555555555555556,
              "#d8576b"
             ],
             [
              0.6666666666666666,
              "#ed7953"
             ],
             [
              0.7777777777777778,
              "#fb9f3a"
             ],
             [
              0.8888888888888888,
              "#fdca26"
             ],
             [
              1,
              "#f0f921"
             ]
            ],
            "type": "heatmap"
           }
          ],
          "heatmapgl": [
           {
            "colorbar": {
             "outlinewidth": 0,
             "ticks": ""
            },
            "colorscale": [
             [
              0,
              "#0d0887"
             ],
             [
              0.1111111111111111,
              "#46039f"
             ],
             [
              0.2222222222222222,
              "#7201a8"
             ],
             [
              0.3333333333333333,
              "#9c179e"
             ],
             [
              0.4444444444444444,
              "#bd3786"
             ],
             [
              0.5555555555555556,
              "#d8576b"
             ],
             [
              0.6666666666666666,
              "#ed7953"
             ],
             [
              0.7777777777777778,
              "#fb9f3a"
             ],
             [
              0.8888888888888888,
              "#fdca26"
             ],
             [
              1,
              "#f0f921"
             ]
            ],
            "type": "heatmapgl"
           }
          ],
          "histogram": [
           {
            "marker": {
             "pattern": {
              "fillmode": "overlay",
              "size": 10,
              "solidity": 0.2
             }
            },
            "type": "histogram"
           }
          ],
          "histogram2d": [
           {
            "colorbar": {
             "outlinewidth": 0,
             "ticks": ""
            },
            "colorscale": [
             [
              0,
              "#0d0887"
             ],
             [
              0.1111111111111111,
              "#46039f"
             ],
             [
              0.2222222222222222,
              "#7201a8"
             ],
             [
              0.3333333333333333,
              "#9c179e"
             ],
             [
              0.4444444444444444,
              "#bd3786"
             ],
             [
              0.5555555555555556,
              "#d8576b"
             ],
             [
              0.6666666666666666,
              "#ed7953"
             ],
             [
              0.7777777777777778,
              "#fb9f3a"
             ],
             [
              0.8888888888888888,
              "#fdca26"
             ],
             [
              1,
              "#f0f921"
             ]
            ],
            "type": "histogram2d"
           }
          ],
          "histogram2dcontour": [
           {
            "colorbar": {
             "outlinewidth": 0,
             "ticks": ""
            },
            "colorscale": [
             [
              0,
              "#0d0887"
             ],
             [
              0.1111111111111111,
              "#46039f"
             ],
             [
              0.2222222222222222,
              "#7201a8"
             ],
             [
              0.3333333333333333,
              "#9c179e"
             ],
             [
              0.4444444444444444,
              "#bd3786"
             ],
             [
              0.5555555555555556,
              "#d8576b"
             ],
             [
              0.6666666666666666,
              "#ed7953"
             ],
             [
              0.7777777777777778,
              "#fb9f3a"
             ],
             [
              0.8888888888888888,
              "#fdca26"
             ],
             [
              1,
              "#f0f921"
             ]
            ],
            "type": "histogram2dcontour"
           }
          ],
          "mesh3d": [
           {
            "colorbar": {
             "outlinewidth": 0,
             "ticks": ""
            },
            "type": "mesh3d"
           }
          ],
          "parcoords": [
           {
            "line": {
             "colorbar": {
              "outlinewidth": 0,
              "ticks": ""
             }
            },
            "type": "parcoords"
           }
          ],
          "pie": [
           {
            "automargin": true,
            "type": "pie"
           }
          ],
          "scatter": [
           {
            "fillpattern": {
             "fillmode": "overlay",
             "size": 10,
             "solidity": 0.2
            },
            "type": "scatter"
           }
          ],
          "scatter3d": [
           {
            "line": {
             "colorbar": {
              "outlinewidth": 0,
              "ticks": ""
             }
            },
            "marker": {
             "colorbar": {
              "outlinewidth": 0,
              "ticks": ""
             }
            },
            "type": "scatter3d"
           }
          ],
          "scattercarpet": [
           {
            "marker": {
             "colorbar": {
              "outlinewidth": 0,
              "ticks": ""
             }
            },
            "type": "scattercarpet"
           }
          ],
          "scattergeo": [
           {
            "marker": {
             "colorbar": {
              "outlinewidth": 0,
              "ticks": ""
             }
            },
            "type": "scattergeo"
           }
          ],
          "scattergl": [
           {
            "marker": {
             "colorbar": {
              "outlinewidth": 0,
              "ticks": ""
             }
            },
            "type": "scattergl"
           }
          ],
          "scattermapbox": [
           {
            "marker": {
             "colorbar": {
              "outlinewidth": 0,
              "ticks": ""
             }
            },
            "type": "scattermapbox"
           }
          ],
          "scatterpolar": [
           {
            "marker": {
             "colorbar": {
              "outlinewidth": 0,
              "ticks": ""
             }
            },
            "type": "scatterpolar"
           }
          ],
          "scatterpolargl": [
           {
            "marker": {
             "colorbar": {
              "outlinewidth": 0,
              "ticks": ""
             }
            },
            "type": "scatterpolargl"
           }
          ],
          "scatterternary": [
           {
            "marker": {
             "colorbar": {
              "outlinewidth": 0,
              "ticks": ""
             }
            },
            "type": "scatterternary"
           }
          ],
          "surface": [
           {
            "colorbar": {
             "outlinewidth": 0,
             "ticks": ""
            },
            "colorscale": [
             [
              0,
              "#0d0887"
             ],
             [
              0.1111111111111111,
              "#46039f"
             ],
             [
              0.2222222222222222,
              "#7201a8"
             ],
             [
              0.3333333333333333,
              "#9c179e"
             ],
             [
              0.4444444444444444,
              "#bd3786"
             ],
             [
              0.5555555555555556,
              "#d8576b"
             ],
             [
              0.6666666666666666,
              "#ed7953"
             ],
             [
              0.7777777777777778,
              "#fb9f3a"
             ],
             [
              0.8888888888888888,
              "#fdca26"
             ],
             [
              1,
              "#f0f921"
             ]
            ],
            "type": "surface"
           }
          ],
          "table": [
           {
            "cells": {
             "fill": {
              "color": "#EBF0F8"
             },
             "line": {
              "color": "white"
             }
            },
            "header": {
             "fill": {
              "color": "#C8D4E3"
             },
             "line": {
              "color": "white"
             }
            },
            "type": "table"
           }
          ]
         },
         "layout": {
          "annotationdefaults": {
           "arrowcolor": "#2a3f5f",
           "arrowhead": 0,
           "arrowwidth": 1
          },
          "autotypenumbers": "strict",
          "coloraxis": {
           "colorbar": {
            "outlinewidth": 0,
            "ticks": ""
           }
          },
          "colorscale": {
           "diverging": [
            [
             0,
             "#8e0152"
            ],
            [
             0.1,
             "#c51b7d"
            ],
            [
             0.2,
             "#de77ae"
            ],
            [
             0.3,
             "#f1b6da"
            ],
            [
             0.4,
             "#fde0ef"
            ],
            [
             0.5,
             "#f7f7f7"
            ],
            [
             0.6,
             "#e6f5d0"
            ],
            [
             0.7,
             "#b8e186"
            ],
            [
             0.8,
             "#7fbc41"
            ],
            [
             0.9,
             "#4d9221"
            ],
            [
             1,
             "#276419"
            ]
           ],
           "sequential": [
            [
             0,
             "#0d0887"
            ],
            [
             0.1111111111111111,
             "#46039f"
            ],
            [
             0.2222222222222222,
             "#7201a8"
            ],
            [
             0.3333333333333333,
             "#9c179e"
            ],
            [
             0.4444444444444444,
             "#bd3786"
            ],
            [
             0.5555555555555556,
             "#d8576b"
            ],
            [
             0.6666666666666666,
             "#ed7953"
            ],
            [
             0.7777777777777778,
             "#fb9f3a"
            ],
            [
             0.8888888888888888,
             "#fdca26"
            ],
            [
             1,
             "#f0f921"
            ]
           ],
           "sequentialminus": [
            [
             0,
             "#0d0887"
            ],
            [
             0.1111111111111111,
             "#46039f"
            ],
            [
             0.2222222222222222,
             "#7201a8"
            ],
            [
             0.3333333333333333,
             "#9c179e"
            ],
            [
             0.4444444444444444,
             "#bd3786"
            ],
            [
             0.5555555555555556,
             "#d8576b"
            ],
            [
             0.6666666666666666,
             "#ed7953"
            ],
            [
             0.7777777777777778,
             "#fb9f3a"
            ],
            [
             0.8888888888888888,
             "#fdca26"
            ],
            [
             1,
             "#f0f921"
            ]
           ]
          },
          "colorway": [
           "#636efa",
           "#EF553B",
           "#00cc96",
           "#ab63fa",
           "#FFA15A",
           "#19d3f3",
           "#FF6692",
           "#B6E880",
           "#FF97FF",
           "#FECB52"
          ],
          "font": {
           "color": "#2a3f5f"
          },
          "geo": {
           "bgcolor": "white",
           "lakecolor": "white",
           "landcolor": "#E5ECF6",
           "showlakes": true,
           "showland": true,
           "subunitcolor": "white"
          },
          "hoverlabel": {
           "align": "left"
          },
          "hovermode": "closest",
          "mapbox": {
           "style": "light"
          },
          "paper_bgcolor": "white",
          "plot_bgcolor": "#E5ECF6",
          "polar": {
           "angularaxis": {
            "gridcolor": "white",
            "linecolor": "white",
            "ticks": ""
           },
           "bgcolor": "#E5ECF6",
           "radialaxis": {
            "gridcolor": "white",
            "linecolor": "white",
            "ticks": ""
           }
          },
          "scene": {
           "xaxis": {
            "backgroundcolor": "#E5ECF6",
            "gridcolor": "white",
            "gridwidth": 2,
            "linecolor": "white",
            "showbackground": true,
            "ticks": "",
            "zerolinecolor": "white"
           },
           "yaxis": {
            "backgroundcolor": "#E5ECF6",
            "gridcolor": "white",
            "gridwidth": 2,
            "linecolor": "white",
            "showbackground": true,
            "ticks": "",
            "zerolinecolor": "white"
           },
           "zaxis": {
            "backgroundcolor": "#E5ECF6",
            "gridcolor": "white",
            "gridwidth": 2,
            "linecolor": "white",
            "showbackground": true,
            "ticks": "",
            "zerolinecolor": "white"
           }
          },
          "shapedefaults": {
           "line": {
            "color": "#2a3f5f"
           }
          },
          "ternary": {
           "aaxis": {
            "gridcolor": "white",
            "linecolor": "white",
            "ticks": ""
           },
           "baxis": {
            "gridcolor": "white",
            "linecolor": "white",
            "ticks": ""
           },
           "bgcolor": "#E5ECF6",
           "caxis": {
            "gridcolor": "white",
            "linecolor": "white",
            "ticks": ""
           }
          },
          "title": {
           "x": 0.05
          },
          "xaxis": {
           "automargin": true,
           "gridcolor": "white",
           "linecolor": "white",
           "ticks": "",
           "title": {
            "standoff": 15
           },
           "zerolinecolor": "white",
           "zerolinewidth": 2
          },
          "yaxis": {
           "automargin": true,
           "gridcolor": "white",
           "linecolor": "white",
           "ticks": "",
           "title": {
            "standoff": 15
           },
           "zerolinecolor": "white",
           "zerolinewidth": 2
          }
         }
        },
        "xaxis": {
         "anchor": "y",
         "domain": [
          0,
          1
         ],
         "side": "top"
        },
        "yaxis": {
         "anchor": "x",
         "autorange": "reversed",
         "domain": [
          0,
          1
         ]
        }
       }
      }
     },
     "metadata": {},
     "output_type": "display_data"
    }
   ],
   "source": [
    "#Heat Map to check correlation for Integers\n",
    "\n",
    "corr_columns = ['loan_status','loan_amnt','int_rate','installment',\n",
    "                'annual_inc','dti','open_acc',\n",
    "                'pub_rec','revol_bal','revol_util',\n",
    "                'total_acc','mort_acc','ECL_delta','ID_delta'\n",
    "               ]\n",
    "\n",
    "corr = train_df_cleaned[corr_columns].corr(numeric_only=True).sort_values(by='loan_status', ascending=False)\n",
    "\n",
    "sorted_corr_indices = corr['loan_status'].abs().sort_values(ascending=False).index\n",
    "\n",
    "# Reindex the correlation matrix using the sorted order\n",
    "sorted_corr = corr.reindex(index=sorted_corr_indices, columns=sorted_corr_indices)\n",
    "\n",
    "# Plot the sorted correlation matrix\n",
    "fig = px.imshow(sorted_corr, text_auto=True, aspect=\"auto\")\n",
    "fig.update_xaxes(side=\"top\")\n",
    "fig.show()"
   ]
  },
  {
   "cell_type": "markdown",
   "id": "d25884c0",
   "metadata": {},
   "source": [
    "To start with, choose features with absolute corr > 0.02\n",
    "\n",
    "Based on the above, the following are the integer features to use\n",
    "1. int_rate\n",
    "2. revol_util\n",
    "3. mort_acc\n",
    "4. loan_amnt\n",
    "5. ID_delta\n",
    "6. dti\n",
    "7. annual_inc\n",
    "8. installment\n",
    "9. ECL_delta\n",
    "10. open_acc"
   ]
  },
  {
   "cell_type": "markdown",
   "id": "b0eb4bab",
   "metadata": {},
   "source": [
    "## Feature Engineering\n",
    "\n",
    "1. Perform categorical feature engineering, i.e. label encoding\n",
    "2. Perform normalization of integer features"
   ]
  },
  {
   "cell_type": "code",
   "execution_count": 19,
   "id": "cd087100",
   "metadata": {},
   "outputs": [],
   "source": [
    "cat_column = ['term','grade','emp_length','zipcode']\n",
    "int_column = [\n",
    "    'int_rate', \n",
    "    'revol_util', \n",
    "    'mort_acc', \n",
    "    'loan_amnt', \n",
    "    'ID_delta', \n",
    "    'dti', \n",
    "    'annual_inc', \n",
    "    'installment', \n",
    "    'ECL_delta', \n",
    "    'open_acc'\n",
    "]\n",
    "\n",
    "loan_status = ['loan_status']\n",
    "\n",
    "feature_column = cat_column + int_column + loan_status\n"
   ]
  },
  {
   "cell_type": "code",
   "execution_count": 20,
   "id": "cd3fbcbf",
   "metadata": {},
   "outputs": [
    {
     "data": {
      "text/html": [
       "<div>\n",
       "<style scoped>\n",
       "    .dataframe tbody tr th:only-of-type {\n",
       "        vertical-align: middle;\n",
       "    }\n",
       "\n",
       "    .dataframe tbody tr th {\n",
       "        vertical-align: top;\n",
       "    }\n",
       "\n",
       "    .dataframe thead th {\n",
       "        text-align: right;\n",
       "    }\n",
       "</style>\n",
       "<table border=\"1\" class=\"dataframe\">\n",
       "  <thead>\n",
       "    <tr style=\"text-align: right;\">\n",
       "      <th></th>\n",
       "      <th>term</th>\n",
       "      <th>grade</th>\n",
       "      <th>emp_length</th>\n",
       "      <th>zipcode</th>\n",
       "    </tr>\n",
       "  </thead>\n",
       "  <tbody>\n",
       "    <tr>\n",
       "      <th>0</th>\n",
       "      <td>60 months</td>\n",
       "      <td>D</td>\n",
       "      <td>10</td>\n",
       "      <td>93700</td>\n",
       "    </tr>\n",
       "    <tr>\n",
       "      <th>1</th>\n",
       "      <td>36 months</td>\n",
       "      <td>C</td>\n",
       "      <td>0</td>\n",
       "      <td>48052</td>\n",
       "    </tr>\n",
       "    <tr>\n",
       "      <th>2</th>\n",
       "      <td>36 months</td>\n",
       "      <td>B</td>\n",
       "      <td>10</td>\n",
       "      <td>05113</td>\n",
       "    </tr>\n",
       "    <tr>\n",
       "      <th>3</th>\n",
       "      <td>60 months</td>\n",
       "      <td>F</td>\n",
       "      <td>7</td>\n",
       "      <td>00813</td>\n",
       "    </tr>\n",
       "    <tr>\n",
       "      <th>4</th>\n",
       "      <td>36 months</td>\n",
       "      <td>C</td>\n",
       "      <td>9</td>\n",
       "      <td>00813</td>\n",
       "    </tr>\n",
       "    <tr>\n",
       "      <th>...</th>\n",
       "      <td>...</td>\n",
       "      <td>...</td>\n",
       "      <td>...</td>\n",
       "      <td>...</td>\n",
       "    </tr>\n",
       "    <tr>\n",
       "      <th>316819</th>\n",
       "      <td>36 months</td>\n",
       "      <td>A</td>\n",
       "      <td>1</td>\n",
       "      <td>70466</td>\n",
       "    </tr>\n",
       "    <tr>\n",
       "      <th>316820</th>\n",
       "      <td>36 months</td>\n",
       "      <td>B</td>\n",
       "      <td>10</td>\n",
       "      <td>30723</td>\n",
       "    </tr>\n",
       "    <tr>\n",
       "      <th>316821</th>\n",
       "      <td>36 months</td>\n",
       "      <td>C</td>\n",
       "      <td>1</td>\n",
       "      <td>48052</td>\n",
       "    </tr>\n",
       "    <tr>\n",
       "      <th>316822</th>\n",
       "      <td>36 months</td>\n",
       "      <td>C</td>\n",
       "      <td>0</td>\n",
       "      <td>30723</td>\n",
       "    </tr>\n",
       "    <tr>\n",
       "      <th>316823</th>\n",
       "      <td>60 months</td>\n",
       "      <td>B</td>\n",
       "      <td>2</td>\n",
       "      <td>00813</td>\n",
       "    </tr>\n",
       "  </tbody>\n",
       "</table>\n",
       "<p>316824 rows × 4 columns</p>\n",
       "</div>"
      ],
      "text/plain": [
       "              term grade emp_length zipcode\n",
       "0        60 months     D         10   93700\n",
       "1        36 months     C          0   48052\n",
       "2        36 months     B         10   05113\n",
       "3        60 months     F          7   00813\n",
       "4        36 months     C          9   00813\n",
       "...            ...   ...        ...     ...\n",
       "316819   36 months     A          1   70466\n",
       "316820   36 months     B         10   30723\n",
       "316821   36 months     C          1   48052\n",
       "316822   36 months     C          0   30723\n",
       "316823   60 months     B          2   00813\n",
       "\n",
       "[316824 rows x 4 columns]"
      ]
     },
     "execution_count": 20,
     "metadata": {},
     "output_type": "execute_result"
    }
   ],
   "source": [
    "train_df_cleaned[cat_column]"
   ]
  },
  {
   "cell_type": "code",
   "execution_count": 21,
   "id": "1077463b",
   "metadata": {},
   "outputs": [
    {
     "data": {
      "text/html": [
       "<div>\n",
       "<style scoped>\n",
       "    .dataframe tbody tr th:only-of-type {\n",
       "        vertical-align: middle;\n",
       "    }\n",
       "\n",
       "    .dataframe tbody tr th {\n",
       "        vertical-align: top;\n",
       "    }\n",
       "\n",
       "    .dataframe thead th {\n",
       "        text-align: right;\n",
       "    }\n",
       "</style>\n",
       "<table border=\"1\" class=\"dataframe\">\n",
       "  <thead>\n",
       "    <tr style=\"text-align: right;\">\n",
       "      <th></th>\n",
       "      <th>int_rate</th>\n",
       "      <th>revol_util</th>\n",
       "      <th>mort_acc</th>\n",
       "      <th>loan_amnt</th>\n",
       "      <th>ID_delta</th>\n",
       "      <th>dti</th>\n",
       "      <th>annual_inc</th>\n",
       "      <th>installment</th>\n",
       "      <th>ECL_delta</th>\n",
       "      <th>open_acc</th>\n",
       "    </tr>\n",
       "  </thead>\n",
       "  <tbody>\n",
       "    <tr>\n",
       "      <th>0</th>\n",
       "      <td>14.83</td>\n",
       "      <td>41.5</td>\n",
       "      <td>NaN</td>\n",
       "      <td>25000.0</td>\n",
       "      <td>4962</td>\n",
       "      <td>13.90</td>\n",
       "      <td>109000.0</td>\n",
       "      <td>592.52</td>\n",
       "      <td>10197</td>\n",
       "      <td>11.0</td>\n",
       "    </tr>\n",
       "    <tr>\n",
       "      <th>1</th>\n",
       "      <td>12.99</td>\n",
       "      <td>82.6</td>\n",
       "      <td>2.0</td>\n",
       "      <td>9500.0</td>\n",
       "      <td>3470</td>\n",
       "      <td>22.29</td>\n",
       "      <td>40000.0</td>\n",
       "      <td>320.05</td>\n",
       "      <td>14154</td>\n",
       "      <td>6.0</td>\n",
       "    </tr>\n",
       "    <tr>\n",
       "      <th>2</th>\n",
       "      <td>8.39</td>\n",
       "      <td>23.2</td>\n",
       "      <td>2.0</td>\n",
       "      <td>9000.0</td>\n",
       "      <td>3014</td>\n",
       "      <td>15.27</td>\n",
       "      <td>50000.0</td>\n",
       "      <td>283.65</td>\n",
       "      <td>10228</td>\n",
       "      <td>14.0</td>\n",
       "    </tr>\n",
       "    <tr>\n",
       "      <th>3</th>\n",
       "      <td>22.99</td>\n",
       "      <td>55.3</td>\n",
       "      <td>2.0</td>\n",
       "      <td>16700.0</td>\n",
       "      <td>3411</td>\n",
       "      <td>21.92</td>\n",
       "      <td>68000.0</td>\n",
       "      <td>470.69</td>\n",
       "      <td>6879</td>\n",
       "      <td>13.0</td>\n",
       "    </tr>\n",
       "    <tr>\n",
       "      <th>4</th>\n",
       "      <td>15.80</td>\n",
       "      <td>90.7</td>\n",
       "      <td>7.0</td>\n",
       "      <td>2800.0</td>\n",
       "      <td>4049</td>\n",
       "      <td>14.93</td>\n",
       "      <td>218554.0</td>\n",
       "      <td>98.17</td>\n",
       "      <td>13942</td>\n",
       "      <td>20.0</td>\n",
       "    </tr>\n",
       "    <tr>\n",
       "      <th>...</th>\n",
       "      <td>...</td>\n",
       "      <td>...</td>\n",
       "      <td>...</td>\n",
       "      <td>...</td>\n",
       "      <td>...</td>\n",
       "      <td>...</td>\n",
       "      <td>...</td>\n",
       "      <td>...</td>\n",
       "      <td>...</td>\n",
       "      <td>...</td>\n",
       "    </tr>\n",
       "    <tr>\n",
       "      <th>316819</th>\n",
       "      <td>7.89</td>\n",
       "      <td>21.2</td>\n",
       "      <td>2.0</td>\n",
       "      <td>20000.0</td>\n",
       "      <td>3380</td>\n",
       "      <td>24.58</td>\n",
       "      <td>70000.0</td>\n",
       "      <td>625.72</td>\n",
       "      <td>8187</td>\n",
       "      <td>11.0</td>\n",
       "    </tr>\n",
       "    <tr>\n",
       "      <th>316820</th>\n",
       "      <td>13.67</td>\n",
       "      <td>58.2</td>\n",
       "      <td>0.0</td>\n",
       "      <td>12400.0</td>\n",
       "      <td>3866</td>\n",
       "      <td>18.40</td>\n",
       "      <td>60000.0</td>\n",
       "      <td>421.82</td>\n",
       "      <td>10075</td>\n",
       "      <td>8.0</td>\n",
       "    </tr>\n",
       "    <tr>\n",
       "      <th>316821</th>\n",
       "      <td>12.69</td>\n",
       "      <td>66.2</td>\n",
       "      <td>3.0</td>\n",
       "      <td>30000.0</td>\n",
       "      <td>3289</td>\n",
       "      <td>9.41</td>\n",
       "      <td>80000.0</td>\n",
       "      <td>1006.35</td>\n",
       "      <td>8644</td>\n",
       "      <td>16.0</td>\n",
       "    </tr>\n",
       "    <tr>\n",
       "      <th>316822</th>\n",
       "      <td>14.31</td>\n",
       "      <td>51.1</td>\n",
       "      <td>0.0</td>\n",
       "      <td>14000.0</td>\n",
       "      <td>3439</td>\n",
       "      <td>2.66</td>\n",
       "      <td>70000.0</td>\n",
       "      <td>480.60</td>\n",
       "      <td>6757</td>\n",
       "      <td>5.0</td>\n",
       "    </tr>\n",
       "    <tr>\n",
       "      <th>316823</th>\n",
       "      <td>10.75</td>\n",
       "      <td>43.7</td>\n",
       "      <td>1.0</td>\n",
       "      <td>12000.0</td>\n",
       "      <td>3074</td>\n",
       "      <td>21.72</td>\n",
       "      <td>80000.0</td>\n",
       "      <td>259.42</td>\n",
       "      <td>8767</td>\n",
       "      <td>6.0</td>\n",
       "    </tr>\n",
       "  </tbody>\n",
       "</table>\n",
       "<p>316824 rows × 10 columns</p>\n",
       "</div>"
      ],
      "text/plain": [
       "        int_rate  revol_util  mort_acc  loan_amnt  ID_delta    dti  \\\n",
       "0          14.83        41.5       NaN    25000.0      4962  13.90   \n",
       "1          12.99        82.6       2.0     9500.0      3470  22.29   \n",
       "2           8.39        23.2       2.0     9000.0      3014  15.27   \n",
       "3          22.99        55.3       2.0    16700.0      3411  21.92   \n",
       "4          15.80        90.7       7.0     2800.0      4049  14.93   \n",
       "...          ...         ...       ...        ...       ...    ...   \n",
       "316819      7.89        21.2       2.0    20000.0      3380  24.58   \n",
       "316820     13.67        58.2       0.0    12400.0      3866  18.40   \n",
       "316821     12.69        66.2       3.0    30000.0      3289   9.41   \n",
       "316822     14.31        51.1       0.0    14000.0      3439   2.66   \n",
       "316823     10.75        43.7       1.0    12000.0      3074  21.72   \n",
       "\n",
       "        annual_inc  installment  ECL_delta  open_acc  \n",
       "0         109000.0       592.52      10197      11.0  \n",
       "1          40000.0       320.05      14154       6.0  \n",
       "2          50000.0       283.65      10228      14.0  \n",
       "3          68000.0       470.69       6879      13.0  \n",
       "4         218554.0        98.17      13942      20.0  \n",
       "...            ...          ...        ...       ...  \n",
       "316819     70000.0       625.72       8187      11.0  \n",
       "316820     60000.0       421.82      10075       8.0  \n",
       "316821     80000.0      1006.35       8644      16.0  \n",
       "316822     70000.0       480.60       6757       5.0  \n",
       "316823     80000.0       259.42       8767       6.0  \n",
       "\n",
       "[316824 rows x 10 columns]"
      ]
     },
     "execution_count": 21,
     "metadata": {},
     "output_type": "execute_result"
    }
   ],
   "source": [
    "train_df_cleaned[int_column]"
   ]
  },
  {
   "cell_type": "code",
   "execution_count": 22,
   "id": "2e8dc150",
   "metadata": {
    "scrolled": true
   },
   "outputs": [
    {
     "data": {
      "text/html": [
       "<div>\n",
       "<style scoped>\n",
       "    .dataframe tbody tr th:only-of-type {\n",
       "        vertical-align: middle;\n",
       "    }\n",
       "\n",
       "    .dataframe tbody tr th {\n",
       "        vertical-align: top;\n",
       "    }\n",
       "\n",
       "    .dataframe thead th {\n",
       "        text-align: right;\n",
       "    }\n",
       "</style>\n",
       "<table border=\"1\" class=\"dataframe\">\n",
       "  <thead>\n",
       "    <tr style=\"text-align: right;\">\n",
       "      <th></th>\n",
       "      <th>term</th>\n",
       "      <th>grade</th>\n",
       "      <th>emp_length</th>\n",
       "      <th>zipcode</th>\n",
       "      <th>int_rate</th>\n",
       "      <th>revol_util</th>\n",
       "      <th>mort_acc</th>\n",
       "      <th>loan_amnt</th>\n",
       "      <th>ID_delta</th>\n",
       "      <th>dti</th>\n",
       "      <th>annual_inc</th>\n",
       "      <th>installment</th>\n",
       "      <th>ECL_delta</th>\n",
       "      <th>open_acc</th>\n",
       "      <th>loan_status</th>\n",
       "    </tr>\n",
       "  </thead>\n",
       "  <tbody>\n",
       "    <tr>\n",
       "      <th>0</th>\n",
       "      <td>60 months</td>\n",
       "      <td>D</td>\n",
       "      <td>10</td>\n",
       "      <td>93700</td>\n",
       "      <td>14.83</td>\n",
       "      <td>41.5</td>\n",
       "      <td>NaN</td>\n",
       "      <td>25000.0</td>\n",
       "      <td>4962</td>\n",
       "      <td>13.90</td>\n",
       "      <td>109000.0</td>\n",
       "      <td>592.52</td>\n",
       "      <td>10197</td>\n",
       "      <td>11.0</td>\n",
       "      <td>1</td>\n",
       "    </tr>\n",
       "    <tr>\n",
       "      <th>1</th>\n",
       "      <td>36 months</td>\n",
       "      <td>C</td>\n",
       "      <td>0</td>\n",
       "      <td>48052</td>\n",
       "      <td>12.99</td>\n",
       "      <td>82.6</td>\n",
       "      <td>2.0</td>\n",
       "      <td>9500.0</td>\n",
       "      <td>3470</td>\n",
       "      <td>22.29</td>\n",
       "      <td>40000.0</td>\n",
       "      <td>320.05</td>\n",
       "      <td>14154</td>\n",
       "      <td>6.0</td>\n",
       "      <td>1</td>\n",
       "    </tr>\n",
       "    <tr>\n",
       "      <th>2</th>\n",
       "      <td>36 months</td>\n",
       "      <td>B</td>\n",
       "      <td>10</td>\n",
       "      <td>05113</td>\n",
       "      <td>8.39</td>\n",
       "      <td>23.2</td>\n",
       "      <td>2.0</td>\n",
       "      <td>9000.0</td>\n",
       "      <td>3014</td>\n",
       "      <td>15.27</td>\n",
       "      <td>50000.0</td>\n",
       "      <td>283.65</td>\n",
       "      <td>10228</td>\n",
       "      <td>14.0</td>\n",
       "      <td>0</td>\n",
       "    </tr>\n",
       "    <tr>\n",
       "      <th>3</th>\n",
       "      <td>60 months</td>\n",
       "      <td>F</td>\n",
       "      <td>7</td>\n",
       "      <td>00813</td>\n",
       "      <td>22.99</td>\n",
       "      <td>55.3</td>\n",
       "      <td>2.0</td>\n",
       "      <td>16700.0</td>\n",
       "      <td>3411</td>\n",
       "      <td>21.92</td>\n",
       "      <td>68000.0</td>\n",
       "      <td>470.69</td>\n",
       "      <td>6879</td>\n",
       "      <td>13.0</td>\n",
       "      <td>0</td>\n",
       "    </tr>\n",
       "    <tr>\n",
       "      <th>4</th>\n",
       "      <td>36 months</td>\n",
       "      <td>C</td>\n",
       "      <td>9</td>\n",
       "      <td>00813</td>\n",
       "      <td>15.80</td>\n",
       "      <td>90.7</td>\n",
       "      <td>7.0</td>\n",
       "      <td>2800.0</td>\n",
       "      <td>4049</td>\n",
       "      <td>14.93</td>\n",
       "      <td>218554.0</td>\n",
       "      <td>98.17</td>\n",
       "      <td>13942</td>\n",
       "      <td>20.0</td>\n",
       "      <td>0</td>\n",
       "    </tr>\n",
       "    <tr>\n",
       "      <th>...</th>\n",
       "      <td>...</td>\n",
       "      <td>...</td>\n",
       "      <td>...</td>\n",
       "      <td>...</td>\n",
       "      <td>...</td>\n",
       "      <td>...</td>\n",
       "      <td>...</td>\n",
       "      <td>...</td>\n",
       "      <td>...</td>\n",
       "      <td>...</td>\n",
       "      <td>...</td>\n",
       "      <td>...</td>\n",
       "      <td>...</td>\n",
       "      <td>...</td>\n",
       "      <td>...</td>\n",
       "    </tr>\n",
       "    <tr>\n",
       "      <th>316819</th>\n",
       "      <td>36 months</td>\n",
       "      <td>A</td>\n",
       "      <td>1</td>\n",
       "      <td>70466</td>\n",
       "      <td>7.89</td>\n",
       "      <td>21.2</td>\n",
       "      <td>2.0</td>\n",
       "      <td>20000.0</td>\n",
       "      <td>3380</td>\n",
       "      <td>24.58</td>\n",
       "      <td>70000.0</td>\n",
       "      <td>625.72</td>\n",
       "      <td>8187</td>\n",
       "      <td>11.0</td>\n",
       "      <td>0</td>\n",
       "    </tr>\n",
       "    <tr>\n",
       "      <th>316820</th>\n",
       "      <td>36 months</td>\n",
       "      <td>B</td>\n",
       "      <td>10</td>\n",
       "      <td>30723</td>\n",
       "      <td>13.67</td>\n",
       "      <td>58.2</td>\n",
       "      <td>0.0</td>\n",
       "      <td>12400.0</td>\n",
       "      <td>3866</td>\n",
       "      <td>18.40</td>\n",
       "      <td>60000.0</td>\n",
       "      <td>421.82</td>\n",
       "      <td>10075</td>\n",
       "      <td>8.0</td>\n",
       "      <td>0</td>\n",
       "    </tr>\n",
       "    <tr>\n",
       "      <th>316821</th>\n",
       "      <td>36 months</td>\n",
       "      <td>C</td>\n",
       "      <td>1</td>\n",
       "      <td>48052</td>\n",
       "      <td>12.69</td>\n",
       "      <td>66.2</td>\n",
       "      <td>3.0</td>\n",
       "      <td>30000.0</td>\n",
       "      <td>3289</td>\n",
       "      <td>9.41</td>\n",
       "      <td>80000.0</td>\n",
       "      <td>1006.35</td>\n",
       "      <td>8644</td>\n",
       "      <td>16.0</td>\n",
       "      <td>1</td>\n",
       "    </tr>\n",
       "    <tr>\n",
       "      <th>316822</th>\n",
       "      <td>36 months</td>\n",
       "      <td>C</td>\n",
       "      <td>0</td>\n",
       "      <td>30723</td>\n",
       "      <td>14.31</td>\n",
       "      <td>51.1</td>\n",
       "      <td>0.0</td>\n",
       "      <td>14000.0</td>\n",
       "      <td>3439</td>\n",
       "      <td>2.66</td>\n",
       "      <td>70000.0</td>\n",
       "      <td>480.60</td>\n",
       "      <td>6757</td>\n",
       "      <td>5.0</td>\n",
       "      <td>0</td>\n",
       "    </tr>\n",
       "    <tr>\n",
       "      <th>316823</th>\n",
       "      <td>60 months</td>\n",
       "      <td>B</td>\n",
       "      <td>2</td>\n",
       "      <td>00813</td>\n",
       "      <td>10.75</td>\n",
       "      <td>43.7</td>\n",
       "      <td>1.0</td>\n",
       "      <td>12000.0</td>\n",
       "      <td>3074</td>\n",
       "      <td>21.72</td>\n",
       "      <td>80000.0</td>\n",
       "      <td>259.42</td>\n",
       "      <td>8767</td>\n",
       "      <td>6.0</td>\n",
       "      <td>0</td>\n",
       "    </tr>\n",
       "  </tbody>\n",
       "</table>\n",
       "<p>316824 rows × 15 columns</p>\n",
       "</div>"
      ],
      "text/plain": [
       "              term grade emp_length zipcode  int_rate  revol_util  mort_acc  \\\n",
       "0        60 months     D         10   93700     14.83        41.5       NaN   \n",
       "1        36 months     C          0   48052     12.99        82.6       2.0   \n",
       "2        36 months     B         10   05113      8.39        23.2       2.0   \n",
       "3        60 months     F          7   00813     22.99        55.3       2.0   \n",
       "4        36 months     C          9   00813     15.80        90.7       7.0   \n",
       "...            ...   ...        ...     ...       ...         ...       ...   \n",
       "316819   36 months     A          1   70466      7.89        21.2       2.0   \n",
       "316820   36 months     B         10   30723     13.67        58.2       0.0   \n",
       "316821   36 months     C          1   48052     12.69        66.2       3.0   \n",
       "316822   36 months     C          0   30723     14.31        51.1       0.0   \n",
       "316823   60 months     B          2   00813     10.75        43.7       1.0   \n",
       "\n",
       "        loan_amnt  ID_delta    dti  annual_inc  installment  ECL_delta  \\\n",
       "0         25000.0      4962  13.90    109000.0       592.52      10197   \n",
       "1          9500.0      3470  22.29     40000.0       320.05      14154   \n",
       "2          9000.0      3014  15.27     50000.0       283.65      10228   \n",
       "3         16700.0      3411  21.92     68000.0       470.69       6879   \n",
       "4          2800.0      4049  14.93    218554.0        98.17      13942   \n",
       "...           ...       ...    ...         ...          ...        ...   \n",
       "316819    20000.0      3380  24.58     70000.0       625.72       8187   \n",
       "316820    12400.0      3866  18.40     60000.0       421.82      10075   \n",
       "316821    30000.0      3289   9.41     80000.0      1006.35       8644   \n",
       "316822    14000.0      3439   2.66     70000.0       480.60       6757   \n",
       "316823    12000.0      3074  21.72     80000.0       259.42       8767   \n",
       "\n",
       "        open_acc  loan_status  \n",
       "0           11.0            1  \n",
       "1            6.0            1  \n",
       "2           14.0            0  \n",
       "3           13.0            0  \n",
       "4           20.0            0  \n",
       "...          ...          ...  \n",
       "316819      11.0            0  \n",
       "316820       8.0            0  \n",
       "316821      16.0            1  \n",
       "316822       5.0            0  \n",
       "316823       6.0            0  \n",
       "\n",
       "[316824 rows x 15 columns]"
      ]
     },
     "execution_count": 22,
     "metadata": {},
     "output_type": "execute_result"
    }
   ],
   "source": [
    "#New df containing only feature columns\n",
    "\n",
    "feature_df = train_df_cleaned[feature_column]\n",
    "\n",
    "feature_df"
   ]
  },
  {
   "cell_type": "code",
   "execution_count": 23,
   "id": "c7431c1d",
   "metadata": {},
   "outputs": [],
   "source": [
    "label_encoder = LabelEncoder()\n",
    "\n",
    "#Label Encode term, grade\n",
    "feature_df['term'] = label_encoder.fit_transform(feature_df['term']) #label encode 60 months = 1, 36 months = 0\n",
    "feature_df['grade'] = label_encoder.fit_transform(feature_df['grade']) # A = 0, B = 1, etc. \n",
    "feature_df['emp_length'] = feature_df['emp_length'].astype(int)\n",
    "\n",
    "#One-Hot encode zipcode\n",
    "zipcode_OH_encoding = pd.get_dummies(feature_df['zipcode'])\n",
    "feature_df = pd.concat([feature_df,zipcode_OH_encoding], axis = 1)\n",
    "feature_df = feature_df.drop('zipcode', axis = 1)\n"
   ]
  },
  {
   "cell_type": "code",
   "execution_count": 24,
   "id": "12e6b5c9",
   "metadata": {
    "scrolled": true
   },
   "outputs": [
    {
     "data": {
      "text/html": [
       "<div>\n",
       "<style scoped>\n",
       "    .dataframe tbody tr th:only-of-type {\n",
       "        vertical-align: middle;\n",
       "    }\n",
       "\n",
       "    .dataframe tbody tr th {\n",
       "        vertical-align: top;\n",
       "    }\n",
       "\n",
       "    .dataframe thead th {\n",
       "        text-align: right;\n",
       "    }\n",
       "</style>\n",
       "<table border=\"1\" class=\"dataframe\">\n",
       "  <thead>\n",
       "    <tr style=\"text-align: right;\">\n",
       "      <th></th>\n",
       "      <th>term</th>\n",
       "      <th>grade</th>\n",
       "      <th>emp_length</th>\n",
       "      <th>int_rate</th>\n",
       "      <th>revol_util</th>\n",
       "      <th>mort_acc</th>\n",
       "      <th>loan_amnt</th>\n",
       "      <th>ID_delta</th>\n",
       "      <th>dti</th>\n",
       "      <th>annual_inc</th>\n",
       "      <th>...</th>\n",
       "      <th>00813</th>\n",
       "      <th>05113</th>\n",
       "      <th>11650</th>\n",
       "      <th>22690</th>\n",
       "      <th>29597</th>\n",
       "      <th>30723</th>\n",
       "      <th>48052</th>\n",
       "      <th>70466</th>\n",
       "      <th>86630</th>\n",
       "      <th>93700</th>\n",
       "    </tr>\n",
       "  </thead>\n",
       "  <tbody>\n",
       "    <tr>\n",
       "      <th>0</th>\n",
       "      <td>1</td>\n",
       "      <td>3</td>\n",
       "      <td>10</td>\n",
       "      <td>14.83</td>\n",
       "      <td>41.5</td>\n",
       "      <td>NaN</td>\n",
       "      <td>25000.0</td>\n",
       "      <td>4962</td>\n",
       "      <td>13.90</td>\n",
       "      <td>109000.0</td>\n",
       "      <td>...</td>\n",
       "      <td>0</td>\n",
       "      <td>0</td>\n",
       "      <td>0</td>\n",
       "      <td>0</td>\n",
       "      <td>0</td>\n",
       "      <td>0</td>\n",
       "      <td>0</td>\n",
       "      <td>0</td>\n",
       "      <td>0</td>\n",
       "      <td>1</td>\n",
       "    </tr>\n",
       "    <tr>\n",
       "      <th>1</th>\n",
       "      <td>0</td>\n",
       "      <td>2</td>\n",
       "      <td>0</td>\n",
       "      <td>12.99</td>\n",
       "      <td>82.6</td>\n",
       "      <td>2.0</td>\n",
       "      <td>9500.0</td>\n",
       "      <td>3470</td>\n",
       "      <td>22.29</td>\n",
       "      <td>40000.0</td>\n",
       "      <td>...</td>\n",
       "      <td>0</td>\n",
       "      <td>0</td>\n",
       "      <td>0</td>\n",
       "      <td>0</td>\n",
       "      <td>0</td>\n",
       "      <td>0</td>\n",
       "      <td>1</td>\n",
       "      <td>0</td>\n",
       "      <td>0</td>\n",
       "      <td>0</td>\n",
       "    </tr>\n",
       "    <tr>\n",
       "      <th>2</th>\n",
       "      <td>0</td>\n",
       "      <td>1</td>\n",
       "      <td>10</td>\n",
       "      <td>8.39</td>\n",
       "      <td>23.2</td>\n",
       "      <td>2.0</td>\n",
       "      <td>9000.0</td>\n",
       "      <td>3014</td>\n",
       "      <td>15.27</td>\n",
       "      <td>50000.0</td>\n",
       "      <td>...</td>\n",
       "      <td>0</td>\n",
       "      <td>1</td>\n",
       "      <td>0</td>\n",
       "      <td>0</td>\n",
       "      <td>0</td>\n",
       "      <td>0</td>\n",
       "      <td>0</td>\n",
       "      <td>0</td>\n",
       "      <td>0</td>\n",
       "      <td>0</td>\n",
       "    </tr>\n",
       "    <tr>\n",
       "      <th>3</th>\n",
       "      <td>1</td>\n",
       "      <td>5</td>\n",
       "      <td>7</td>\n",
       "      <td>22.99</td>\n",
       "      <td>55.3</td>\n",
       "      <td>2.0</td>\n",
       "      <td>16700.0</td>\n",
       "      <td>3411</td>\n",
       "      <td>21.92</td>\n",
       "      <td>68000.0</td>\n",
       "      <td>...</td>\n",
       "      <td>1</td>\n",
       "      <td>0</td>\n",
       "      <td>0</td>\n",
       "      <td>0</td>\n",
       "      <td>0</td>\n",
       "      <td>0</td>\n",
       "      <td>0</td>\n",
       "      <td>0</td>\n",
       "      <td>0</td>\n",
       "      <td>0</td>\n",
       "    </tr>\n",
       "    <tr>\n",
       "      <th>4</th>\n",
       "      <td>0</td>\n",
       "      <td>2</td>\n",
       "      <td>9</td>\n",
       "      <td>15.80</td>\n",
       "      <td>90.7</td>\n",
       "      <td>7.0</td>\n",
       "      <td>2800.0</td>\n",
       "      <td>4049</td>\n",
       "      <td>14.93</td>\n",
       "      <td>218554.0</td>\n",
       "      <td>...</td>\n",
       "      <td>1</td>\n",
       "      <td>0</td>\n",
       "      <td>0</td>\n",
       "      <td>0</td>\n",
       "      <td>0</td>\n",
       "      <td>0</td>\n",
       "      <td>0</td>\n",
       "      <td>0</td>\n",
       "      <td>0</td>\n",
       "      <td>0</td>\n",
       "    </tr>\n",
       "    <tr>\n",
       "      <th>...</th>\n",
       "      <td>...</td>\n",
       "      <td>...</td>\n",
       "      <td>...</td>\n",
       "      <td>...</td>\n",
       "      <td>...</td>\n",
       "      <td>...</td>\n",
       "      <td>...</td>\n",
       "      <td>...</td>\n",
       "      <td>...</td>\n",
       "      <td>...</td>\n",
       "      <td>...</td>\n",
       "      <td>...</td>\n",
       "      <td>...</td>\n",
       "      <td>...</td>\n",
       "      <td>...</td>\n",
       "      <td>...</td>\n",
       "      <td>...</td>\n",
       "      <td>...</td>\n",
       "      <td>...</td>\n",
       "      <td>...</td>\n",
       "      <td>...</td>\n",
       "    </tr>\n",
       "    <tr>\n",
       "      <th>316819</th>\n",
       "      <td>0</td>\n",
       "      <td>0</td>\n",
       "      <td>1</td>\n",
       "      <td>7.89</td>\n",
       "      <td>21.2</td>\n",
       "      <td>2.0</td>\n",
       "      <td>20000.0</td>\n",
       "      <td>3380</td>\n",
       "      <td>24.58</td>\n",
       "      <td>70000.0</td>\n",
       "      <td>...</td>\n",
       "      <td>0</td>\n",
       "      <td>0</td>\n",
       "      <td>0</td>\n",
       "      <td>0</td>\n",
       "      <td>0</td>\n",
       "      <td>0</td>\n",
       "      <td>0</td>\n",
       "      <td>1</td>\n",
       "      <td>0</td>\n",
       "      <td>0</td>\n",
       "    </tr>\n",
       "    <tr>\n",
       "      <th>316820</th>\n",
       "      <td>0</td>\n",
       "      <td>1</td>\n",
       "      <td>10</td>\n",
       "      <td>13.67</td>\n",
       "      <td>58.2</td>\n",
       "      <td>0.0</td>\n",
       "      <td>12400.0</td>\n",
       "      <td>3866</td>\n",
       "      <td>18.40</td>\n",
       "      <td>60000.0</td>\n",
       "      <td>...</td>\n",
       "      <td>0</td>\n",
       "      <td>0</td>\n",
       "      <td>0</td>\n",
       "      <td>0</td>\n",
       "      <td>0</td>\n",
       "      <td>1</td>\n",
       "      <td>0</td>\n",
       "      <td>0</td>\n",
       "      <td>0</td>\n",
       "      <td>0</td>\n",
       "    </tr>\n",
       "    <tr>\n",
       "      <th>316821</th>\n",
       "      <td>0</td>\n",
       "      <td>2</td>\n",
       "      <td>1</td>\n",
       "      <td>12.69</td>\n",
       "      <td>66.2</td>\n",
       "      <td>3.0</td>\n",
       "      <td>30000.0</td>\n",
       "      <td>3289</td>\n",
       "      <td>9.41</td>\n",
       "      <td>80000.0</td>\n",
       "      <td>...</td>\n",
       "      <td>0</td>\n",
       "      <td>0</td>\n",
       "      <td>0</td>\n",
       "      <td>0</td>\n",
       "      <td>0</td>\n",
       "      <td>0</td>\n",
       "      <td>1</td>\n",
       "      <td>0</td>\n",
       "      <td>0</td>\n",
       "      <td>0</td>\n",
       "    </tr>\n",
       "    <tr>\n",
       "      <th>316822</th>\n",
       "      <td>0</td>\n",
       "      <td>2</td>\n",
       "      <td>0</td>\n",
       "      <td>14.31</td>\n",
       "      <td>51.1</td>\n",
       "      <td>0.0</td>\n",
       "      <td>14000.0</td>\n",
       "      <td>3439</td>\n",
       "      <td>2.66</td>\n",
       "      <td>70000.0</td>\n",
       "      <td>...</td>\n",
       "      <td>0</td>\n",
       "      <td>0</td>\n",
       "      <td>0</td>\n",
       "      <td>0</td>\n",
       "      <td>0</td>\n",
       "      <td>1</td>\n",
       "      <td>0</td>\n",
       "      <td>0</td>\n",
       "      <td>0</td>\n",
       "      <td>0</td>\n",
       "    </tr>\n",
       "    <tr>\n",
       "      <th>316823</th>\n",
       "      <td>1</td>\n",
       "      <td>1</td>\n",
       "      <td>2</td>\n",
       "      <td>10.75</td>\n",
       "      <td>43.7</td>\n",
       "      <td>1.0</td>\n",
       "      <td>12000.0</td>\n",
       "      <td>3074</td>\n",
       "      <td>21.72</td>\n",
       "      <td>80000.0</td>\n",
       "      <td>...</td>\n",
       "      <td>1</td>\n",
       "      <td>0</td>\n",
       "      <td>0</td>\n",
       "      <td>0</td>\n",
       "      <td>0</td>\n",
       "      <td>0</td>\n",
       "      <td>0</td>\n",
       "      <td>0</td>\n",
       "      <td>0</td>\n",
       "      <td>0</td>\n",
       "    </tr>\n",
       "  </tbody>\n",
       "</table>\n",
       "<p>316824 rows × 24 columns</p>\n",
       "</div>"
      ],
      "text/plain": [
       "        term  grade  emp_length  int_rate  revol_util  mort_acc  loan_amnt  \\\n",
       "0          1      3          10     14.83        41.5       NaN    25000.0   \n",
       "1          0      2           0     12.99        82.6       2.0     9500.0   \n",
       "2          0      1          10      8.39        23.2       2.0     9000.0   \n",
       "3          1      5           7     22.99        55.3       2.0    16700.0   \n",
       "4          0      2           9     15.80        90.7       7.0     2800.0   \n",
       "...      ...    ...         ...       ...         ...       ...        ...   \n",
       "316819     0      0           1      7.89        21.2       2.0    20000.0   \n",
       "316820     0      1          10     13.67        58.2       0.0    12400.0   \n",
       "316821     0      2           1     12.69        66.2       3.0    30000.0   \n",
       "316822     0      2           0     14.31        51.1       0.0    14000.0   \n",
       "316823     1      1           2     10.75        43.7       1.0    12000.0   \n",
       "\n",
       "        ID_delta    dti  annual_inc  ...  00813  05113  11650  22690  29597  \\\n",
       "0           4962  13.90    109000.0  ...      0      0      0      0      0   \n",
       "1           3470  22.29     40000.0  ...      0      0      0      0      0   \n",
       "2           3014  15.27     50000.0  ...      0      1      0      0      0   \n",
       "3           3411  21.92     68000.0  ...      1      0      0      0      0   \n",
       "4           4049  14.93    218554.0  ...      1      0      0      0      0   \n",
       "...          ...    ...         ...  ...    ...    ...    ...    ...    ...   \n",
       "316819      3380  24.58     70000.0  ...      0      0      0      0      0   \n",
       "316820      3866  18.40     60000.0  ...      0      0      0      0      0   \n",
       "316821      3289   9.41     80000.0  ...      0      0      0      0      0   \n",
       "316822      3439   2.66     70000.0  ...      0      0      0      0      0   \n",
       "316823      3074  21.72     80000.0  ...      1      0      0      0      0   \n",
       "\n",
       "        30723  48052  70466  86630  93700  \n",
       "0           0      0      0      0      1  \n",
       "1           0      1      0      0      0  \n",
       "2           0      0      0      0      0  \n",
       "3           0      0      0      0      0  \n",
       "4           0      0      0      0      0  \n",
       "...       ...    ...    ...    ...    ...  \n",
       "316819      0      0      1      0      0  \n",
       "316820      1      0      0      0      0  \n",
       "316821      0      1      0      0      0  \n",
       "316822      1      0      0      0      0  \n",
       "316823      0      0      0      0      0  \n",
       "\n",
       "[316824 rows x 24 columns]"
      ]
     },
     "execution_count": 24,
     "metadata": {},
     "output_type": "execute_result"
    }
   ],
   "source": [
    "feature_df"
   ]
  },
  {
   "cell_type": "code",
   "execution_count": 25,
   "id": "5983e120",
   "metadata": {},
   "outputs": [
    {
     "name": "stdout",
     "output_type": "stream",
     "text": [
      "<class 'pandas.core.frame.DataFrame'>\n",
      "RangeIndex: 316824 entries, 0 to 316823\n",
      "Data columns (total 24 columns):\n",
      " #   Column       Non-Null Count   Dtype  \n",
      "---  ------       --------------   -----  \n",
      " 0   term         316824 non-null  int32  \n",
      " 1   grade        316824 non-null  int32  \n",
      " 2   emp_length   316824 non-null  int32  \n",
      " 3   int_rate     316824 non-null  float64\n",
      " 4   revol_util   316598 non-null  float64\n",
      " 5   mort_acc     286611 non-null  float64\n",
      " 6   loan_amnt    316824 non-null  float64\n",
      " 7   ID_delta     316824 non-null  int64  \n",
      " 8   dti          316824 non-null  float64\n",
      " 9   annual_inc   316824 non-null  float64\n",
      " 10  installment  316824 non-null  float64\n",
      " 11  ECL_delta    316824 non-null  int64  \n",
      " 12  open_acc     316824 non-null  float64\n",
      " 13  loan_status  316824 non-null  int64  \n",
      " 14  00813        316824 non-null  uint8  \n",
      " 15  05113        316824 non-null  uint8  \n",
      " 16  11650        316824 non-null  uint8  \n",
      " 17  22690        316824 non-null  uint8  \n",
      " 18  29597        316824 non-null  uint8  \n",
      " 19  30723        316824 non-null  uint8  \n",
      " 20  48052        316824 non-null  uint8  \n",
      " 21  70466        316824 non-null  uint8  \n",
      " 22  86630        316824 non-null  uint8  \n",
      " 23  93700        316824 non-null  uint8  \n",
      "dtypes: float64(8), int32(3), int64(3), uint8(10)\n",
      "memory usage: 33.2 MB\n"
     ]
    }
   ],
   "source": [
    "feature_df.info()"
   ]
  },
  {
   "cell_type": "code",
   "execution_count": 26,
   "id": "1622bc9e",
   "metadata": {},
   "outputs": [],
   "source": [
    "sc_X= StandardScaler()\n",
    "\n",
    "feature_df_scaled = feature_df.copy()\n",
    "feature_df_scaled[int_column] = sc_X.fit_transform(feature_df_scaled[int_column])\n"
   ]
  },
  {
   "cell_type": "code",
   "execution_count": 27,
   "id": "7a9247a7",
   "metadata": {
    "scrolled": true
   },
   "outputs": [
    {
     "data": {
      "text/html": [
       "<div>\n",
       "<style scoped>\n",
       "    .dataframe tbody tr th:only-of-type {\n",
       "        vertical-align: middle;\n",
       "    }\n",
       "\n",
       "    .dataframe tbody tr th {\n",
       "        vertical-align: top;\n",
       "    }\n",
       "\n",
       "    .dataframe thead th {\n",
       "        text-align: right;\n",
       "    }\n",
       "</style>\n",
       "<table border=\"1\" class=\"dataframe\">\n",
       "  <thead>\n",
       "    <tr style=\"text-align: right;\">\n",
       "      <th></th>\n",
       "      <th>term</th>\n",
       "      <th>grade</th>\n",
       "      <th>emp_length</th>\n",
       "      <th>int_rate</th>\n",
       "      <th>revol_util</th>\n",
       "      <th>mort_acc</th>\n",
       "      <th>loan_amnt</th>\n",
       "      <th>ID_delta</th>\n",
       "      <th>dti</th>\n",
       "      <th>annual_inc</th>\n",
       "      <th>...</th>\n",
       "      <th>00813</th>\n",
       "      <th>05113</th>\n",
       "      <th>11650</th>\n",
       "      <th>22690</th>\n",
       "      <th>29597</th>\n",
       "      <th>30723</th>\n",
       "      <th>48052</th>\n",
       "      <th>70466</th>\n",
       "      <th>86630</th>\n",
       "      <th>93700</th>\n",
       "    </tr>\n",
       "  </thead>\n",
       "  <tbody>\n",
       "    <tr>\n",
       "      <th>0</th>\n",
       "      <td>1</td>\n",
       "      <td>3</td>\n",
       "      <td>10</td>\n",
       "      <td>0.266224</td>\n",
       "      <td>-0.502190</td>\n",
       "      <td>NaN</td>\n",
       "      <td>1.301480</td>\n",
       "      <td>2.185491</td>\n",
       "      <td>-0.176538</td>\n",
       "      <td>0.558916</td>\n",
       "      <td>...</td>\n",
       "      <td>0</td>\n",
       "      <td>0</td>\n",
       "      <td>0</td>\n",
       "      <td>0</td>\n",
       "      <td>0</td>\n",
       "      <td>0</td>\n",
       "      <td>0</td>\n",
       "      <td>0</td>\n",
       "      <td>0</td>\n",
       "      <td>1</td>\n",
       "    </tr>\n",
       "    <tr>\n",
       "      <th>1</th>\n",
       "      <td>0</td>\n",
       "      <td>2</td>\n",
       "      <td>0</td>\n",
       "      <td>-0.145120</td>\n",
       "      <td>1.178158</td>\n",
       "      <td>0.087250</td>\n",
       "      <td>-0.551550</td>\n",
       "      <td>-0.625745</td>\n",
       "      <td>0.248684</td>\n",
       "      <td>-0.550053</td>\n",
       "      <td>...</td>\n",
       "      <td>0</td>\n",
       "      <td>0</td>\n",
       "      <td>0</td>\n",
       "      <td>0</td>\n",
       "      <td>0</td>\n",
       "      <td>0</td>\n",
       "      <td>1</td>\n",
       "      <td>0</td>\n",
       "      <td>0</td>\n",
       "      <td>0</td>\n",
       "    </tr>\n",
       "    <tr>\n",
       "      <th>2</th>\n",
       "      <td>0</td>\n",
       "      <td>1</td>\n",
       "      <td>10</td>\n",
       "      <td>-1.173480</td>\n",
       "      <td>-1.250375</td>\n",
       "      <td>0.087250</td>\n",
       "      <td>-0.611325</td>\n",
       "      <td>-1.484943</td>\n",
       "      <td>-0.107104</td>\n",
       "      <td>-0.389333</td>\n",
       "      <td>...</td>\n",
       "      <td>0</td>\n",
       "      <td>1</td>\n",
       "      <td>0</td>\n",
       "      <td>0</td>\n",
       "      <td>0</td>\n",
       "      <td>0</td>\n",
       "      <td>0</td>\n",
       "      <td>0</td>\n",
       "      <td>0</td>\n",
       "      <td>0</td>\n",
       "    </tr>\n",
       "    <tr>\n",
       "      <th>3</th>\n",
       "      <td>1</td>\n",
       "      <td>5</td>\n",
       "      <td>7</td>\n",
       "      <td>2.090444</td>\n",
       "      <td>0.062014</td>\n",
       "      <td>0.087250</td>\n",
       "      <td>0.309212</td>\n",
       "      <td>-0.736913</td>\n",
       "      <td>0.229931</td>\n",
       "      <td>-0.100037</td>\n",
       "      <td>...</td>\n",
       "      <td>1</td>\n",
       "      <td>0</td>\n",
       "      <td>0</td>\n",
       "      <td>0</td>\n",
       "      <td>0</td>\n",
       "      <td>0</td>\n",
       "      <td>0</td>\n",
       "      <td>0</td>\n",
       "      <td>0</td>\n",
       "      <td>0</td>\n",
       "    </tr>\n",
       "    <tr>\n",
       "      <th>4</th>\n",
       "      <td>0</td>\n",
       "      <td>2</td>\n",
       "      <td>9</td>\n",
       "      <td>0.483073</td>\n",
       "      <td>1.509322</td>\n",
       "      <td>2.417745</td>\n",
       "      <td>-1.352538</td>\n",
       "      <td>0.465211</td>\n",
       "      <td>-0.124336</td>\n",
       "      <td>2.319670</td>\n",
       "      <td>...</td>\n",
       "      <td>1</td>\n",
       "      <td>0</td>\n",
       "      <td>0</td>\n",
       "      <td>0</td>\n",
       "      <td>0</td>\n",
       "      <td>0</td>\n",
       "      <td>0</td>\n",
       "      <td>0</td>\n",
       "      <td>0</td>\n",
       "      <td>0</td>\n",
       "    </tr>\n",
       "    <tr>\n",
       "      <th>...</th>\n",
       "      <td>...</td>\n",
       "      <td>...</td>\n",
       "      <td>...</td>\n",
       "      <td>...</td>\n",
       "      <td>...</td>\n",
       "      <td>...</td>\n",
       "      <td>...</td>\n",
       "      <td>...</td>\n",
       "      <td>...</td>\n",
       "      <td>...</td>\n",
       "      <td>...</td>\n",
       "      <td>...</td>\n",
       "      <td>...</td>\n",
       "      <td>...</td>\n",
       "      <td>...</td>\n",
       "      <td>...</td>\n",
       "      <td>...</td>\n",
       "      <td>...</td>\n",
       "      <td>...</td>\n",
       "      <td>...</td>\n",
       "      <td>...</td>\n",
       "    </tr>\n",
       "    <tr>\n",
       "      <th>316819</th>\n",
       "      <td>0</td>\n",
       "      <td>0</td>\n",
       "      <td>1</td>\n",
       "      <td>-1.285258</td>\n",
       "      <td>-1.332144</td>\n",
       "      <td>0.087250</td>\n",
       "      <td>0.703729</td>\n",
       "      <td>-0.795323</td>\n",
       "      <td>0.364745</td>\n",
       "      <td>-0.067893</td>\n",
       "      <td>...</td>\n",
       "      <td>0</td>\n",
       "      <td>0</td>\n",
       "      <td>0</td>\n",
       "      <td>0</td>\n",
       "      <td>0</td>\n",
       "      <td>0</td>\n",
       "      <td>0</td>\n",
       "      <td>1</td>\n",
       "      <td>0</td>\n",
       "      <td>0</td>\n",
       "    </tr>\n",
       "    <tr>\n",
       "      <th>316820</th>\n",
       "      <td>0</td>\n",
       "      <td>1</td>\n",
       "      <td>10</td>\n",
       "      <td>0.006898</td>\n",
       "      <td>0.180579</td>\n",
       "      <td>-0.844949</td>\n",
       "      <td>-0.204854</td>\n",
       "      <td>0.120401</td>\n",
       "      <td>0.051531</td>\n",
       "      <td>-0.228613</td>\n",
       "      <td>...</td>\n",
       "      <td>0</td>\n",
       "      <td>0</td>\n",
       "      <td>0</td>\n",
       "      <td>0</td>\n",
       "      <td>0</td>\n",
       "      <td>1</td>\n",
       "      <td>0</td>\n",
       "      <td>0</td>\n",
       "      <td>0</td>\n",
       "      <td>0</td>\n",
       "    </tr>\n",
       "    <tr>\n",
       "      <th>316821</th>\n",
       "      <td>0</td>\n",
       "      <td>2</td>\n",
       "      <td>1</td>\n",
       "      <td>-0.212187</td>\n",
       "      <td>0.507654</td>\n",
       "      <td>0.553349</td>\n",
       "      <td>1.899232</td>\n",
       "      <td>-0.966786</td>\n",
       "      <td>-0.404100</td>\n",
       "      <td>0.092828</td>\n",
       "      <td>...</td>\n",
       "      <td>0</td>\n",
       "      <td>0</td>\n",
       "      <td>0</td>\n",
       "      <td>0</td>\n",
       "      <td>0</td>\n",
       "      <td>0</td>\n",
       "      <td>1</td>\n",
       "      <td>0</td>\n",
       "      <td>0</td>\n",
       "      <td>0</td>\n",
       "    </tr>\n",
       "    <tr>\n",
       "      <th>316822</th>\n",
       "      <td>0</td>\n",
       "      <td>2</td>\n",
       "      <td>0</td>\n",
       "      <td>0.149974</td>\n",
       "      <td>-0.109700</td>\n",
       "      <td>-0.844949</td>\n",
       "      <td>-0.013574</td>\n",
       "      <td>-0.684155</td>\n",
       "      <td>-0.746204</td>\n",
       "      <td>-0.067893</td>\n",
       "      <td>...</td>\n",
       "      <td>0</td>\n",
       "      <td>0</td>\n",
       "      <td>0</td>\n",
       "      <td>0</td>\n",
       "      <td>0</td>\n",
       "      <td>1</td>\n",
       "      <td>0</td>\n",
       "      <td>0</td>\n",
       "      <td>0</td>\n",
       "      <td>0</td>\n",
       "    </tr>\n",
       "    <tr>\n",
       "      <th>316823</th>\n",
       "      <td>1</td>\n",
       "      <td>1</td>\n",
       "      <td>2</td>\n",
       "      <td>-0.645887</td>\n",
       "      <td>-0.412245</td>\n",
       "      <td>-0.378850</td>\n",
       "      <td>-0.252674</td>\n",
       "      <td>-1.371890</td>\n",
       "      <td>0.219795</td>\n",
       "      <td>0.092828</td>\n",
       "      <td>...</td>\n",
       "      <td>1</td>\n",
       "      <td>0</td>\n",
       "      <td>0</td>\n",
       "      <td>0</td>\n",
       "      <td>0</td>\n",
       "      <td>0</td>\n",
       "      <td>0</td>\n",
       "      <td>0</td>\n",
       "      <td>0</td>\n",
       "      <td>0</td>\n",
       "    </tr>\n",
       "  </tbody>\n",
       "</table>\n",
       "<p>316824 rows × 24 columns</p>\n",
       "</div>"
      ],
      "text/plain": [
       "        term  grade  emp_length  int_rate  revol_util  mort_acc  loan_amnt  \\\n",
       "0          1      3          10  0.266224   -0.502190       NaN   1.301480   \n",
       "1          0      2           0 -0.145120    1.178158  0.087250  -0.551550   \n",
       "2          0      1          10 -1.173480   -1.250375  0.087250  -0.611325   \n",
       "3          1      5           7  2.090444    0.062014  0.087250   0.309212   \n",
       "4          0      2           9  0.483073    1.509322  2.417745  -1.352538   \n",
       "...      ...    ...         ...       ...         ...       ...        ...   \n",
       "316819     0      0           1 -1.285258   -1.332144  0.087250   0.703729   \n",
       "316820     0      1          10  0.006898    0.180579 -0.844949  -0.204854   \n",
       "316821     0      2           1 -0.212187    0.507654  0.553349   1.899232   \n",
       "316822     0      2           0  0.149974   -0.109700 -0.844949  -0.013574   \n",
       "316823     1      1           2 -0.645887   -0.412245 -0.378850  -0.252674   \n",
       "\n",
       "        ID_delta       dti  annual_inc  ...  00813  05113  11650  22690  \\\n",
       "0       2.185491 -0.176538    0.558916  ...      0      0      0      0   \n",
       "1      -0.625745  0.248684   -0.550053  ...      0      0      0      0   \n",
       "2      -1.484943 -0.107104   -0.389333  ...      0      1      0      0   \n",
       "3      -0.736913  0.229931   -0.100037  ...      1      0      0      0   \n",
       "4       0.465211 -0.124336    2.319670  ...      1      0      0      0   \n",
       "...          ...       ...         ...  ...    ...    ...    ...    ...   \n",
       "316819 -0.795323  0.364745   -0.067893  ...      0      0      0      0   \n",
       "316820  0.120401  0.051531   -0.228613  ...      0      0      0      0   \n",
       "316821 -0.966786 -0.404100    0.092828  ...      0      0      0      0   \n",
       "316822 -0.684155 -0.746204   -0.067893  ...      0      0      0      0   \n",
       "316823 -1.371890  0.219795    0.092828  ...      1      0      0      0   \n",
       "\n",
       "        29597  30723  48052  70466  86630  93700  \n",
       "0           0      0      0      0      0      1  \n",
       "1           0      0      1      0      0      0  \n",
       "2           0      0      0      0      0      0  \n",
       "3           0      0      0      0      0      0  \n",
       "4           0      0      0      0      0      0  \n",
       "...       ...    ...    ...    ...    ...    ...  \n",
       "316819      0      0      0      1      0      0  \n",
       "316820      0      1      0      0      0      0  \n",
       "316821      0      0      1      0      0      0  \n",
       "316822      0      1      0      0      0      0  \n",
       "316823      0      0      0      0      0      0  \n",
       "\n",
       "[316824 rows x 24 columns]"
      ]
     },
     "execution_count": 27,
     "metadata": {},
     "output_type": "execute_result"
    }
   ],
   "source": [
    "feature_df_scaled"
   ]
  },
  {
   "cell_type": "markdown",
   "id": "c29dedbc",
   "metadata": {},
   "source": [
    "## Model Building and Evaluation"
   ]
  },
  {
   "cell_type": "markdown",
   "id": "cc0ee58d",
   "metadata": {},
   "source": [
    "Start with Logistic Regression as base model"
   ]
  },
  {
   "cell_type": "code",
   "execution_count": 28,
   "id": "be055091",
   "metadata": {},
   "outputs": [
    {
     "data": {
      "text/plain": [
       "term               0\n",
       "grade              0\n",
       "emp_length         0\n",
       "int_rate           0\n",
       "revol_util       226\n",
       "mort_acc       30213\n",
       "loan_amnt          0\n",
       "ID_delta           0\n",
       "dti                0\n",
       "annual_inc         0\n",
       "installment        0\n",
       "ECL_delta          0\n",
       "open_acc           0\n",
       "loan_status        0\n",
       "00813              0\n",
       "05113              0\n",
       "11650              0\n",
       "22690              0\n",
       "29597              0\n",
       "30723              0\n",
       "48052              0\n",
       "70466              0\n",
       "86630              0\n",
       "93700              0\n",
       "dtype: int64"
      ]
     },
     "execution_count": 28,
     "metadata": {},
     "output_type": "execute_result"
    }
   ],
   "source": [
    "feature_df_scaled.isnull().sum()"
   ]
  },
  {
   "cell_type": "code",
   "execution_count": 29,
   "id": "84ef6252",
   "metadata": {},
   "outputs": [
    {
     "name": "stdout",
     "output_type": "stream",
     "text": [
      "AUC: 0.9047442241384329\n"
     ]
    }
   ],
   "source": [
    "X = feature_df_scaled.drop(columns = ['revol_util','mort_acc','loan_status']) #remove two features with missing data\n",
    "y = feature_df_scaled['loan_status']\n",
    "\n",
    "logreg_model = LogisticRegression(random_state=0)\n",
    "\n",
    "X_train, X_test, y_train, y_test = train_test_split(X, y, test_size=0.3, random_state=0)\n",
    "\n",
    "logreg_model = logreg_model.fit(X_train, y_train)\n",
    "y_predict = logreg_model.predict_proba(X_test)[:,1]\n",
    "\n",
    "auc_score = metrics.roc_auc_score(y_test, y_predict)\n",
    "print('AUC:', auc_score) \n",
    "\n",
    "#Did not include accuracy due to having mix of binary and continuous features"
   ]
  },
  {
   "cell_type": "markdown",
   "id": "3132ea61",
   "metadata": {},
   "source": [
    "Model fitting for XBG Classifier, RandomForestClassifier, BaggingClassifier, AdaBoostClassifier"
   ]
  },
  {
   "cell_type": "code",
   "execution_count": 30,
   "id": "37113213",
   "metadata": {},
   "outputs": [
    {
     "name": "stdout",
     "output_type": "stream",
     "text": [
      "\n",
      "     XGBClassifier  AdaBoostClassifier  RandomForestClassifier  \\\n",
      "auc          0.911               0.909                   0.904   \n",
      "\n",
      "     DecisionTreeClassifier  BaggingClassifier  \n",
      "auc                   0.745              0.876  \n"
     ]
    }
   ],
   "source": [
    "#Test Models without Features with NaN\n",
    "\n",
    "X = feature_df_scaled.drop(columns = ['revol_util','mort_acc','loan_status'])\n",
    "y = feature_df_scaled['loan_status']\n",
    "\n",
    "X_train, X_test, y_train, y_test = train_test_split(X, y, test_size=0.30, random_state=42)\n",
    "\n",
    "# Create model object\n",
    "xgb_model1 = XGBClassifier(max_depth = 5, learning_rate=0.2, random_state=42, tree_method=\"auto\")\n",
    "adab_model2 = AdaBoostClassifier(random_state=42)\n",
    "rfc_model3 = RandomForestClassifier(random_state=42)\n",
    "dtc_model4 = DecisionTreeClassifier(random_state=42) \n",
    "gb_model5 = BaggingClassifier(random_state=42) \n",
    "\n",
    "models = {'XGBClassifier':xgb_model1, 'AdaBoostClassifier':adab_model2, 'RandomForestClassifier':rfc_model3, \n",
    "          'DecisionTreeClassifier': dtc_model4, 'BaggingClassifier': gb_model5}\n",
    "\n",
    "results = {}\n",
    "models_for_emsemble = {}\n",
    "          \n",
    "for name, model in models.items():\n",
    "    \n",
    "    # Fit the model with the training data\n",
    "    model.fit(X_train, y_train)\n",
    "\n",
    "    # predict the target on the test dataset\n",
    "    y_predict = model.predict_proba(X_test)[:,1]\n",
    "    #print('\\nPrediction on test data', y_predict) \n",
    "\n",
    "    auc = metrics.roc_auc_score(y_test, y_predict)\n",
    "    #print('AUC:', auc)\n",
    "    \n",
    "    results[name] = {'auc': round(auc, 3)}\n",
    "    models_for_emsemble[name] = model\n",
    "\n",
    "print()\n",
    "print(pd.DataFrame(results))"
   ]
  },
  {
   "cell_type": "code",
   "execution_count": 31,
   "id": "a07a2186",
   "metadata": {},
   "outputs": [
    {
     "name": "stdout",
     "output_type": "stream",
     "text": [
      "0.9122807320325879\n"
     ]
    }
   ],
   "source": [
    "#Test XGBoost with full feature\n",
    "\n",
    "#Test Models without Features with NaN\n",
    "\n",
    "X = feature_df_scaled.drop(columns = ['loan_status'])\n",
    "y = feature_df_scaled['loan_status']\n",
    "\n",
    "X_train, X_test, y_train, y_test = train_test_split(X, y, test_size=0.30, random_state=42)\n",
    "\n",
    "# Create model object\n",
    "\n",
    "model = XGBClassifier(max_depth = 5, learning_rate=0.2, random_state=42, tree_method=\"auto\")\n",
    "\n",
    "# Fit the model with the training data\n",
    "model.fit(X_train, y_train)\n",
    "\n",
    "# predict the target on the test dataset\n",
    "y_predict = model.predict_proba(X_test)[:,1]\n",
    "\n",
    "auc_score = roc_auc_score(y_test, y_predict)\n",
    "print(auc_score)"
   ]
  },
  {
   "cell_type": "code",
   "execution_count": 32,
   "id": "08f0f989",
   "metadata": {},
   "outputs": [
    {
     "name": "stdout",
     "output_type": "stream",
     "text": [
      "Fitting 10 folds for each of 9 candidates, totalling 90 fits\n",
      "{'learning_rate': 0.25, 'max_depth': 4}\n",
      "0.9112805492080108\n"
     ]
    }
   ],
   "source": [
    "XGB_grid = XGBClassifier(max_depth = 5, learning_rate=0.2, random_state=42, tree_method=\"auto\")\n",
    "\n",
    "params = [{'max_depth': list(range(3, 6, 1)), \n",
    "           'learning_rate': list(np.arange(0.15, 0.3, 0.05))\n",
    "          }]\n",
    "\n",
    "X = feature_df_scaled.drop(columns = ['loan_status'])\n",
    "y = feature_df_scaled['loan_status']\n",
    "\n",
    "X_train, X_test, y_train, y_test = train_test_split(X, y, test_size=0.30, random_state=42)\n",
    "\n",
    "clf = GridSearchCV(XGB_grid, params, cv = 10, scoring='roc_auc', verbose=1) #cv/kfold =10\n",
    "\n",
    "clf.fit(X_train, y_train)\n",
    "\n",
    "print(clf.best_params_)\n",
    "\n",
    "print(clf.best_score_)\n",
    "\n",
    "#Due to robustness of gridsearch method, we will proceed "
   ]
  },
  {
   "cell_type": "markdown",
   "id": "3b796d0f",
   "metadata": {},
   "source": [
    "## Train Model and Export"
   ]
  },
  {
   "cell_type": "code",
   "execution_count": 34,
   "id": "c9cda94a",
   "metadata": {},
   "outputs": [
    {
     "data": {
      "text/html": [
       "<style>#sk-container-id-1 {color: black;background-color: white;}#sk-container-id-1 pre{padding: 0;}#sk-container-id-1 div.sk-toggleable {background-color: white;}#sk-container-id-1 label.sk-toggleable__label {cursor: pointer;display: block;width: 100%;margin-bottom: 0;padding: 0.3em;box-sizing: border-box;text-align: center;}#sk-container-id-1 label.sk-toggleable__label-arrow:before {content: \"▸\";float: left;margin-right: 0.25em;color: #696969;}#sk-container-id-1 label.sk-toggleable__label-arrow:hover:before {color: black;}#sk-container-id-1 div.sk-estimator:hover label.sk-toggleable__label-arrow:before {color: black;}#sk-container-id-1 div.sk-toggleable__content {max-height: 0;max-width: 0;overflow: hidden;text-align: left;background-color: #f0f8ff;}#sk-container-id-1 div.sk-toggleable__content pre {margin: 0.2em;color: black;border-radius: 0.25em;background-color: #f0f8ff;}#sk-container-id-1 input.sk-toggleable__control:checked~div.sk-toggleable__content {max-height: 200px;max-width: 100%;overflow: auto;}#sk-container-id-1 input.sk-toggleable__control:checked~label.sk-toggleable__label-arrow:before {content: \"▾\";}#sk-container-id-1 div.sk-estimator input.sk-toggleable__control:checked~label.sk-toggleable__label {background-color: #d4ebff;}#sk-container-id-1 div.sk-label input.sk-toggleable__control:checked~label.sk-toggleable__label {background-color: #d4ebff;}#sk-container-id-1 input.sk-hidden--visually {border: 0;clip: rect(1px 1px 1px 1px);clip: rect(1px, 1px, 1px, 1px);height: 1px;margin: -1px;overflow: hidden;padding: 0;position: absolute;width: 1px;}#sk-container-id-1 div.sk-estimator {font-family: monospace;background-color: #f0f8ff;border: 1px dotted black;border-radius: 0.25em;box-sizing: border-box;margin-bottom: 0.5em;}#sk-container-id-1 div.sk-estimator:hover {background-color: #d4ebff;}#sk-container-id-1 div.sk-parallel-item::after {content: \"\";width: 100%;border-bottom: 1px solid gray;flex-grow: 1;}#sk-container-id-1 div.sk-label:hover label.sk-toggleable__label {background-color: #d4ebff;}#sk-container-id-1 div.sk-serial::before {content: \"\";position: absolute;border-left: 1px solid gray;box-sizing: border-box;top: 0;bottom: 0;left: 50%;z-index: 0;}#sk-container-id-1 div.sk-serial {display: flex;flex-direction: column;align-items: center;background-color: white;padding-right: 0.2em;padding-left: 0.2em;position: relative;}#sk-container-id-1 div.sk-item {position: relative;z-index: 1;}#sk-container-id-1 div.sk-parallel {display: flex;align-items: stretch;justify-content: center;background-color: white;position: relative;}#sk-container-id-1 div.sk-item::before, #sk-container-id-1 div.sk-parallel-item::before {content: \"\";position: absolute;border-left: 1px solid gray;box-sizing: border-box;top: 0;bottom: 0;left: 50%;z-index: -1;}#sk-container-id-1 div.sk-parallel-item {display: flex;flex-direction: column;z-index: 1;position: relative;background-color: white;}#sk-container-id-1 div.sk-parallel-item:first-child::after {align-self: flex-end;width: 50%;}#sk-container-id-1 div.sk-parallel-item:last-child::after {align-self: flex-start;width: 50%;}#sk-container-id-1 div.sk-parallel-item:only-child::after {width: 0;}#sk-container-id-1 div.sk-dashed-wrapped {border: 1px dashed gray;margin: 0 0.4em 0.5em 0.4em;box-sizing: border-box;padding-bottom: 0.4em;background-color: white;}#sk-container-id-1 div.sk-label label {font-family: monospace;font-weight: bold;display: inline-block;line-height: 1.2em;}#sk-container-id-1 div.sk-label-container {text-align: center;}#sk-container-id-1 div.sk-container {/* jupyter's `normalize.less` sets `[hidden] { display: none; }` but bootstrap.min.css set `[hidden] { display: none !important; }` so we also need the `!important` here to be able to override the default hidden behavior on the sphinx rendered scikit-learn.org. See: https://github.com/scikit-learn/scikit-learn/issues/21755 */display: inline-block !important;position: relative;}#sk-container-id-1 div.sk-text-repr-fallback {display: none;}</style><div id=\"sk-container-id-1\" class=\"sk-top-container\"><div class=\"sk-text-repr-fallback\"><pre>XGBClassifier(base_score=None, booster=None, callbacks=None,\n",
       "              colsample_bylevel=None, colsample_bynode=None,\n",
       "              colsample_bytree=None, early_stopping_rounds=None,\n",
       "              enable_categorical=False, eval_metric=None, feature_types=None,\n",
       "              gamma=None, gpu_id=None, grow_policy=None, importance_type=None,\n",
       "              interaction_constraints=None, learning_rate=0.25, max_bin=None,\n",
       "              max_cat_threshold=None, max_cat_to_onehot=None,\n",
       "              max_delta_step=None, max_depth=4, max_leaves=None,\n",
       "              min_child_weight=None, missing=nan, monotone_constraints=None,\n",
       "              n_estimators=100, n_jobs=None, num_parallel_tree=None,\n",
       "              predictor=None, random_state=42, ...)</pre><b>In a Jupyter environment, please rerun this cell to show the HTML representation or trust the notebook. <br />On GitHub, the HTML representation is unable to render, please try loading this page with nbviewer.org.</b></div><div class=\"sk-container\" hidden><div class=\"sk-item\"><div class=\"sk-estimator sk-toggleable\"><input class=\"sk-toggleable__control sk-hidden--visually\" id=\"sk-estimator-id-1\" type=\"checkbox\" checked><label for=\"sk-estimator-id-1\" class=\"sk-toggleable__label sk-toggleable__label-arrow\">XGBClassifier</label><div class=\"sk-toggleable__content\"><pre>XGBClassifier(base_score=None, booster=None, callbacks=None,\n",
       "              colsample_bylevel=None, colsample_bynode=None,\n",
       "              colsample_bytree=None, early_stopping_rounds=None,\n",
       "              enable_categorical=False, eval_metric=None, feature_types=None,\n",
       "              gamma=None, gpu_id=None, grow_policy=None, importance_type=None,\n",
       "              interaction_constraints=None, learning_rate=0.25, max_bin=None,\n",
       "              max_cat_threshold=None, max_cat_to_onehot=None,\n",
       "              max_delta_step=None, max_depth=4, max_leaves=None,\n",
       "              min_child_weight=None, missing=nan, monotone_constraints=None,\n",
       "              n_estimators=100, n_jobs=None, num_parallel_tree=None,\n",
       "              predictor=None, random_state=42, ...)</pre></div></div></div></div></div>"
      ],
      "text/plain": [
       "XGBClassifier(base_score=None, booster=None, callbacks=None,\n",
       "              colsample_bylevel=None, colsample_bynode=None,\n",
       "              colsample_bytree=None, early_stopping_rounds=None,\n",
       "              enable_categorical=False, eval_metric=None, feature_types=None,\n",
       "              gamma=None, gpu_id=None, grow_policy=None, importance_type=None,\n",
       "              interaction_constraints=None, learning_rate=0.25, max_bin=None,\n",
       "              max_cat_threshold=None, max_cat_to_onehot=None,\n",
       "              max_delta_step=None, max_depth=4, max_leaves=None,\n",
       "              min_child_weight=None, missing=nan, monotone_constraints=None,\n",
       "              n_estimators=100, n_jobs=None, num_parallel_tree=None,\n",
       "              predictor=None, random_state=42, ...)"
      ]
     },
     "execution_count": 34,
     "metadata": {},
     "output_type": "execute_result"
    }
   ],
   "source": [
    "#Extract best params from GridSearch\n",
    "best_params = clf.best_params_\n",
    "\n",
    "#Retrain model on entire dataset with the best params\n",
    "final_model = XGBClassifier(**best_params, random_state = 42, tree_method = \"auto\")\n",
    "final_model.fit(X,y)\n"
   ]
  },
  {
   "cell_type": "code",
   "execution_count": 39,
   "id": "6cd710a5",
   "metadata": {},
   "outputs": [
    {
     "data": {
      "text/plain": [
       "['../model/XGBoost_model.pkl']"
      ]
     },
     "execution_count": 39,
     "metadata": {},
     "output_type": "execute_result"
    }
   ],
   "source": [
    "#Export trained model as a pickle file\n",
    "joblib.dump(final_model, '../model/XGBoost_model.pkl') "
   ]
  }
 ],
 "metadata": {
  "kernelspec": {
   "display_name": "Python 3 (ipykernel)",
   "language": "python",
   "name": "python3"
  },
  "language_info": {
   "codemirror_mode": {
    "name": "ipython",
    "version": 3
   },
   "file_extension": ".py",
   "mimetype": "text/x-python",
   "name": "python",
   "nbconvert_exporter": "python",
   "pygments_lexer": "ipython3",
   "version": "3.11.5"
  }
 },
 "nbformat": 4,
 "nbformat_minor": 5
}
